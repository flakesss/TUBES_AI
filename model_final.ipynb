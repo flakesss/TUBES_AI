{
  "nbformat": 4,
  "nbformat_minor": 0,
  "metadata": {
    "colab": {
      "provenance": [],
      "authorship_tag": "ABX9TyMyu2dAxp3bvp31bDGMSHan",
      "include_colab_link": true
    },
    "kernelspec": {
      "name": "python3",
      "display_name": "Python 3"
    },
    "language_info": {
      "name": "python"
    }
  },
  "cells": [
    {
      "cell_type": "markdown",
      "metadata": {
        "id": "view-in-github",
        "colab_type": "text"
      },
      "source": [
        "<a href=\"https://colab.research.google.com/github/flakesss/TUBES_AI/blob/hatta/model_final.ipynb\" target=\"_parent\"><img src=\"https://colab.research.google.com/assets/colab-badge.svg\" alt=\"Open In Colab\"/></a>"
      ]
    },
    {
      "cell_type": "code",
      "execution_count": 13,
      "metadata": {
        "id": "xc-vOxs28ppV"
      },
      "outputs": [],
      "source": [
        "import pandas as pd\n",
        "import numpy as np\n",
        "import matplotlib.pyplot as plt\n",
        "import seaborn as sns\n",
        "import warnings\n",
        "import joblib\n",
        "import os\n",
        "from sklearn.preprocessing import LabelEncoder, OneHotEncoder, OrdinalEncoder, StandardScaler\n",
        "from sklearn.compose import ColumnTransformer\n",
        "from sklearn.pipeline import Pipeline\n",
        "from sklearn.model_selection import train_test_split, GridSearchCV, StratifiedKFold\n",
        "from sklearn.metrics import (\n",
        "    accuracy_score, precision_score, recall_score, f1_score,\n",
        "    confusion_matrix, classification_report, roc_auc_score,\n",
        "    roc_curve, auc, precision_recall_curve, average_precision_score\n",
        ")\n",
        "from sklearn.ensemble import GradientBoostingClassifier\n",
        "\n",
        "warnings.filterwarnings('ignore')\n",
        "\n",
        "os.makedirs('models', exist_ok=True)\n",
        "os.makedirs('visualizations', exist_ok=True)"
      ]
    },
    {
      "cell_type": "code",
      "source": [
        "try:\n",
        "    df = pd.read_excel(\"/content/Telco Customer Churn.xlsx\")\n",
        "    print(\"Data berhasil dimuat dari file Excel\")\n",
        "except Exception as e:\n",
        "    print(f\"Error saat memuat Excel: {e}\")\n",
        "    try:\n",
        "        df = pd.read_csv(\"WA_Fn-UseC_-Telco-Customer-Churn.csv\")\n",
        "        print(\"Data berhasil dimuat dari file CSV\")\n",
        "    except Exception as e2:\n",
        "        print(f\"Error saat memuat CSV: {e2}\")\n",
        "        try:\n",
        "            files = [f for f in os.listdir() if f.endswith('.csv') or f.endswith('.xlsx')]\n",
        "            if files:\n",
        "                if files[0].endswith('.csv'):\n",
        "                    df = pd.read_csv(files[0])\n",
        "                else:\n",
        "                    df = pd.read_excel(files[0])\n",
        "                print(f\"Data berhasil dimuat dari {files[0]}\")\n",
        "            else:\n",
        "                raise Exception(\"Tidak ada file CSV atau Excel ditemukan\")\n",
        "        except Exception as e3:\n",
        "            print(f\"Error saat mencoba opsi lain: {e3}\")\n",
        "            raise Exception(\"Tidak dapat memuat data. Pastikan file telah diupload dengan benar.\")\n"
      ],
      "metadata": {
        "colab": {
          "base_uri": "https://localhost:8080/"
        },
        "id": "61kk4Ozo9mez",
        "outputId": "6b29d529-b3d6-4fe9-f6a6-6e6ca73b4c3e"
      },
      "execution_count": 18,
      "outputs": [
        {
          "output_type": "stream",
          "name": "stdout",
          "text": [
            "Data berhasil dimuat dari file Excel\n"
          ]
        }
      ]
    },
    {
      "cell_type": "code",
      "source": [
        "\n",
        "print(\"\\n2. Memeriksa data awal...\")\n",
        "print(f\"Jumlah baris dan kolom: {df.shape}\")\n",
        "print(\"\\nLima baris pertama:\")\n",
        "print(df.head())\n",
        "\n",
        "if df.shape[1] == 1 and ',' in str(df.iloc[0, 0]):\n",
        "    print(\"\\nDeteksi masalah format: Data ada dalam satu kolom. Parsing data...\")\n",
        "    header = df.columns[0].split(',')\n",
        "    parsed_rows = []\n",
        "    for i in range(len(df)):\n",
        "        values = df.iloc[i, 0].split(',')\n",
        "        if len(values) == len(header):\n",
        "            parsed_rows.append(values)\n",
        "    df = pd.DataFrame(parsed_rows, columns=header)\n",
        "    print(\"Data berhasil di-parse.\")"
      ],
      "metadata": {
        "colab": {
          "base_uri": "https://localhost:8080/"
        },
        "id": "HZsekdRS9rwf",
        "outputId": "3e571851-6e9a-4278-ae91-d8cff4b21804"
      },
      "execution_count": 3,
      "outputs": [
        {
          "output_type": "stream",
          "name": "stdout",
          "text": [
            "\n",
            "2. Memeriksa data awal...\n",
            "Jumlah baris dan kolom: (7043, 21)\n",
            "\n",
            "Lima baris pertama:\n",
            "   customerID  gender  SeniorCitizen Partner Dependents  tenure PhoneService  \\\n",
            "0  7590-VHVEG  Female              0     Yes         No       1           No   \n",
            "1  5575-GNVDE    Male              0      No         No      34          Yes   \n",
            "2  3668-QPYBK    Male              0      No         No       2          Yes   \n",
            "3  7795-CFOCW    Male              0      No         No      45           No   \n",
            "4  9237-HQITU  Female              0      No         No       2          Yes   \n",
            "\n",
            "      MultipleLines InternetService OnlineSecurity  ... DeviceProtection  \\\n",
            "0  No phone service             DSL             No  ...               No   \n",
            "1                No             DSL            Yes  ...              Yes   \n",
            "2                No             DSL            Yes  ...               No   \n",
            "3  No phone service             DSL            Yes  ...              Yes   \n",
            "4                No     Fiber optic             No  ...               No   \n",
            "\n",
            "  TechSupport StreamingTV StreamingMovies        Contract PaperlessBilling  \\\n",
            "0          No          No              No  Month-to-month              Yes   \n",
            "1          No          No              No        One year               No   \n",
            "2          No          No              No  Month-to-month              Yes   \n",
            "3         Yes          No              No        One year               No   \n",
            "4          No          No              No  Month-to-month              Yes   \n",
            "\n",
            "               PaymentMethod MonthlyCharges  TotalCharges Churn  \n",
            "0           Electronic check          29.85         29.85    No  \n",
            "1               Mailed check          56.95        1889.5    No  \n",
            "2               Mailed check          53.85        108.15   Yes  \n",
            "3  Bank transfer (automatic)          42.30       1840.75    No  \n",
            "4           Electronic check          70.70        151.65   Yes  \n",
            "\n",
            "[5 rows x 21 columns]\n"
          ]
        }
      ]
    },
    {
      "cell_type": "code",
      "source": [
        "\n",
        "print(\"\\n3. Membersihkan dan memproses data...\")\n",
        "\n",
        "if 'customerID' in df.columns:\n",
        "    df = df.drop('customerID', axis=1)\n",
        "    print(\"- Kolom customerID dihapus\")\n",
        "\n",
        "if 'TotalCharges' in df.columns:\n",
        "    df['TotalCharges'] = pd.to_numeric(df['TotalCharges'], errors='coerce')\n",
        "    print(\"- TotalCharges dikonversi ke numerik\")\n",
        "\n",
        "missing_data = df.isnull().sum()\n",
        "print(\"\\nMissing values:\")\n",
        "print(missing_data[missing_data > 0])\n",
        "\n",
        "if 'TotalCharges' in df.columns and df['TotalCharges'].isnull().sum() > 0:\n",
        "    df['TotalCharges'] = df['TotalCharges'].fillna(df.groupby('tenure')['TotalCharges'].transform('median'))\n",
        "    df['TotalCharges'] = df['TotalCharges'].fillna(df['TotalCharges'].median())\n",
        "    print(\"- Missing values pada TotalCharges ditangani\")\n",
        "\n",
        "if df.duplicated().sum() > 0:\n",
        "    df = df.drop_duplicates()\n",
        "    print(f\"- {df.duplicated().sum()} data duplikat dihapus\")\n",
        "else:\n",
        "    print(\"- Tidak ada data duplikat\")\n",
        "\n",
        "if 'Churn' in df.columns and df['Churn'].dtype == 'object':\n",
        "    df['Churn'] = df['Churn'].map({'Yes': 1, 'No': 0})\n",
        "    print(\"- Target 'Churn' dikonversi ke nilai biner 1/0\")\n",
        "\n",
        "if 'SeniorCitizen' in df.columns and df['SeniorCitizen'].dtype == 'object':\n",
        "    df['SeniorCitizen'] = df['SeniorCitizen'].map({'Yes': 1, 'No': 0})\n",
        "    print(\"- SeniorCitizen dikonversi ke nilai biner 1/0\")\n"
      ],
      "metadata": {
        "colab": {
          "base_uri": "https://localhost:8080/"
        },
        "id": "hCilRzPz9t0K",
        "outputId": "2b698e74-63c4-4b8b-b574-d072af0d2a02"
      },
      "execution_count": 4,
      "outputs": [
        {
          "output_type": "stream",
          "name": "stdout",
          "text": [
            "\n",
            "3. Membersihkan dan memproses data...\n",
            "- Kolom customerID dihapus\n",
            "- TotalCharges dikonversi ke numerik\n",
            "\n",
            "Missing values:\n",
            "TotalCharges    11\n",
            "dtype: int64\n",
            "- Missing values pada TotalCharges ditangani\n",
            "- 0 data duplikat dihapus\n",
            "- Target 'Churn' dikonversi ke nilai biner 1/0\n"
          ]
        }
      ]
    },
    {
      "cell_type": "code",
      "source": [
        "\n",
        "print(\"\\n4. Analisis Eksploratori Data...\")\n",
        "\n",
        "plt.figure(figsize=(8, 6))\n",
        "sns.countplot(x='Churn', data=df, palette='Set1')\n",
        "plt.title('Distribusi Target (Churn)')\n",
        "plt.savefig('visualizations/churn_distribution.png')\n",
        "plt.close()\n",
        "print(\"- Visualisasi distribusi churn disimpan\")\n",
        "\n",
        "categorical_cols = df.select_dtypes(include=['object']).columns.tolist()\n",
        "if 'Contract' in categorical_cols:\n",
        "    plt.figure(figsize=(10, 6))\n",
        "    sns.countplot(x='Contract', hue='Churn', data=df, palette='Set2')\n",
        "    plt.title('Distribusi Churn berdasarkan Contract')\n",
        "    plt.savefig('visualizations/churn_by_contract.png')\n",
        "    plt.close()\n",
        "    print(\"- Visualisasi distribusi churn berdasarkan contract disimpan\")\n",
        "\n",
        "numeric_cols = df.select_dtypes(include=['int64', 'float64']).columns.tolist()\n",
        "numeric_cols = [col for col in numeric_cols if col != 'Churn']\n",
        "if 'tenure' in numeric_cols and 'MonthlyCharges' in numeric_cols:\n",
        "    fig, axes = plt.subplots(1, 2, figsize=(14, 6))\n",
        "    sns.boxplot(x='Churn', y='tenure', data=df, ax=axes[0])\n",
        "    axes[0].set_title('Tenure by Churn Status')\n",
        "    sns.boxplot(x='Churn', y='MonthlyCharges', data=df, ax=axes[1])\n",
        "    axes[1].set_title('Monthly Charges by Churn Status')\n",
        "    plt.tight_layout()\n",
        "    plt.savefig('visualizations/numeric_features_by_churn.png')\n",
        "    plt.close()\n",
        "    print(\"- Visualisasi fitur numerik berdasarkan churn disimpan\")"
      ],
      "metadata": {
        "colab": {
          "base_uri": "https://localhost:8080/"
        },
        "id": "M1j1H5Lm9w9t",
        "outputId": "66a2d67c-c0eb-4fa3-8cd8-66e051ceec49"
      },
      "execution_count": 17,
      "outputs": [
        {
          "output_type": "stream",
          "name": "stdout",
          "text": [
            "\n",
            "4. Analisis Eksploratori Data...\n",
            "- Visualisasi distribusi churn disimpan\n",
            "- Visualisasi distribusi churn berdasarkan contract disimpan\n",
            "- Visualisasi fitur numerik berdasarkan churn disimpan\n"
          ]
        }
      ]
    },
    {
      "cell_type": "code",
      "source": [
        "\n",
        "print(\"\\n5. Seleksi fitur dan split data...\")\n",
        "\n",
        "important_features = [\n",
        "    'Contract', 'InternetService', 'PaymentMethod', 'TotalCharges', 'tenure',\n",
        "    'OnlineSecurity', 'StreamingTV', 'PaperlessBilling', 'StreamingMovies', 'MultipleLines'\n",
        "]\n",
        "\n",
        "missing_features = [feature for feature in important_features if feature not in df.columns]\n",
        "if missing_features:\n",
        "    print(f\"- Perhatian: Fitur berikut tidak ditemukan dalam dataset: {missing_features}\")\n",
        "    important_features = [feature for feature in important_features if feature in df.columns]\n",
        "\n",
        "X = df[important_features]\n",
        "y = df['Churn']\n",
        "\n",
        "print(f\"- Menggunakan {len(important_features)} fitur penting: {important_features}\")\n"
      ],
      "metadata": {
        "colab": {
          "base_uri": "https://localhost:8080/"
        },
        "id": "Xdk4BHIb9063",
        "outputId": "a49d4e63-7be2-476b-dc36-1945ffca195b"
      },
      "execution_count": 6,
      "outputs": [
        {
          "output_type": "stream",
          "name": "stdout",
          "text": [
            "\n",
            "5. Seleksi fitur dan split data...\n",
            "- Menggunakan 10 fitur penting: ['Contract', 'InternetService', 'PaymentMethod', 'TotalCharges', 'tenure', 'OnlineSecurity', 'StreamingTV', 'PaperlessBilling', 'StreamingMovies', 'MultipleLines']\n"
          ]
        }
      ]
    },
    {
      "cell_type": "code",
      "source": [
        "\n",
        "print(\"\\n6. Split data untuk training dan testing...\")\n",
        "X_train, X_test, y_train, y_test = train_test_split(\n",
        "    X, y, test_size=0.2, random_state=42, stratify=y\n",
        ")\n",
        "print(f\"- Data training: {X_train.shape[0]} samples\")\n",
        "print(f\"- Data testing: {X_test.shape[0]} samples\")\n"
      ],
      "metadata": {
        "colab": {
          "base_uri": "https://localhost:8080/"
        },
        "id": "iHNL-8Eb920e",
        "outputId": "8039f36e-a11b-4177-bd49-f170c383bcc5"
      },
      "execution_count": 7,
      "outputs": [
        {
          "output_type": "stream",
          "name": "stdout",
          "text": [
            "\n",
            "6. Split data untuk training dan testing...\n",
            "- Data training: 5616 samples\n",
            "- Data testing: 1405 samples\n"
          ]
        }
      ]
    },
    {
      "cell_type": "code",
      "source": [
        "\n",
        "print(\"\\n7. Menyiapkan preprocessing pipeline...\")\n",
        "\n",
        "\n",
        "binary_cols = ['PaperlessBilling']\n",
        "ordinal_cols = ['Contract', 'InternetService']\n",
        "nominal_cols = [col for col in important_features if col not in binary_cols + ordinal_cols + ['tenure', 'TotalCharges', 'MonthlyCharges']]\n",
        "numeric_cols = [col for col in important_features if col in ['tenure', 'TotalCharges', 'MonthlyCharges']]\n",
        "\n",
        "ordinal_mapping = [\n",
        "    ['Month-to-month', 'One year', 'Two year'],\n",
        "    ['No', 'DSL', 'Fiber optic']\n",
        "]\n",
        "\n",
        "binary_transformer = OneHotEncoder(drop='if_binary')\n",
        "ordinal_transformer = OrdinalEncoder(categories=ordinal_mapping)\n",
        "nominal_transformer = OneHotEncoder(drop='first')\n",
        "numeric_transformer = StandardScaler()\n",
        "\n",
        "preprocessor = ColumnTransformer([\n",
        "    ('binary', binary_transformer, binary_cols),\n",
        "    ('ordinal', ordinal_transformer, ordinal_cols),\n",
        "    ('nominal', nominal_transformer, nominal_cols),\n",
        "    ('numeric', numeric_transformer, numeric_cols)\n",
        "], remainder='passthrough')\n",
        "\n",
        "print(f\"- Binary columns: {binary_cols}\")\n",
        "print(f\"- Ordinal columns: {ordinal_cols}\")\n",
        "print(f\"- Nominal columns: {nominal_cols}\")\n",
        "print(f\"- Numeric columns: {numeric_cols}\")\n"
      ],
      "metadata": {
        "colab": {
          "base_uri": "https://localhost:8080/"
        },
        "id": "it6T9Ygk95Lh",
        "outputId": "fc64a0e0-9738-4f38-86b2-6f6f4e2ca061"
      },
      "execution_count": 8,
      "outputs": [
        {
          "output_type": "stream",
          "name": "stdout",
          "text": [
            "\n",
            "7. Menyiapkan preprocessing pipeline...\n",
            "- Binary columns: ['PaperlessBilling']\n",
            "- Ordinal columns: ['Contract', 'InternetService']\n",
            "- Nominal columns: ['PaymentMethod', 'OnlineSecurity', 'StreamingTV', 'StreamingMovies', 'MultipleLines']\n",
            "- Numeric columns: ['TotalCharges', 'tenure']\n"
          ]
        }
      ]
    },
    {
      "cell_type": "code",
      "source": [
        "\n",
        "print(\"\\n8. Training model Gradient Boosting...\")\n",
        "\n",
        "baseline_gb = GradientBoostingClassifier(random_state=42)\n",
        "baseline_model = Pipeline([\n",
        "    ('preprocessor', preprocessor),\n",
        "    ('classifier', baseline_gb)\n",
        "])\n",
        "\n",
        "baseline_model.fit(X_train, y_train)\n",
        "y_pred_baseline = baseline_model.predict(X_test)\n",
        "print(\"- Model baseline berhasil dilatih\")\n",
        "\n",
        "print(\"\\nHasil evaluasi model baseline:\")\n",
        "baseline_accuracy = accuracy_score(y_test, y_pred_baseline)\n",
        "baseline_precision = precision_score(y_test, y_pred_baseline)\n",
        "baseline_recall = recall_score(y_test, y_pred_baseline)\n",
        "baseline_f1 = f1_score(y_test, y_pred_baseline)\n",
        "\n",
        "print(f\"- Accuracy: {baseline_accuracy:.4f}\")\n",
        "print(f\"- Precision: {baseline_precision:.4f}\")\n",
        "print(f\"- Recall: {baseline_recall:.4f}\")\n",
        "print(f\"- F1 Score: {baseline_f1:.4f}\")\n",
        "\n",
        "cm_baseline = confusion_matrix(y_test, y_pred_baseline)\n",
        "plt.figure(figsize=(8, 6))\n",
        "sns.heatmap(cm_baseline, annot=True, fmt='d', cmap='Blues')\n",
        "plt.title('Confusion Matrix - Model Baseline')\n",
        "plt.ylabel('Actual')\n",
        "plt.xlabel('Predicted')\n",
        "plt.savefig('visualizations/baseline_confusion_matrix.png')\n",
        "plt.close()\n",
        "print(\"- Confusion matrix baseline disimpan\")"
      ],
      "metadata": {
        "colab": {
          "base_uri": "https://localhost:8080/"
        },
        "id": "JyQk1odC97n_",
        "outputId": "73144aa6-07c9-4095-eb55-d7c3354b1dd1"
      },
      "execution_count": 16,
      "outputs": [
        {
          "output_type": "stream",
          "name": "stdout",
          "text": [
            "\n",
            "8. Training model Gradient Boosting...\n",
            "- Model baseline berhasil dilatih\n",
            "\n",
            "Hasil evaluasi model baseline:\n",
            "- Accuracy: 0.8050\n",
            "- Precision: 0.6678\n",
            "- Recall: 0.5242\n",
            "- F1 Score: 0.5873\n",
            "- Confusion matrix baseline disimpan\n"
          ]
        }
      ]
    },
    {
      "cell_type": "code",
      "source": [
        "\n",
        "print(\"\\n9. Parameter tuning dengan fokus mengurangi false positive...\")\n",
        "\n",
        "param_grid = {\n",
        "    'classifier__learning_rate': [0.05, 0.1, 0.2],\n",
        "    'classifier__n_estimators': [100, 200, 300],\n",
        "    'classifier__max_depth': [3, 4, 5],\n",
        "    'classifier__min_samples_split': [2, 5, 10],\n",
        "    'classifier__min_samples_leaf': [1, 2, 4],\n",
        "    'classifier__subsample': [0.8, 1.0],\n",
        "    'classifier__max_features': [None, 'sqrt', 'log2']\n",
        "}\n",
        "\n",
        "\n",
        "cv = StratifiedKFold(n_splits=5, shuffle=True, random_state=42)\n",
        "\n",
        "\n",
        "grid_search = GridSearchCV(\n",
        "    baseline_model,\n",
        "    param_grid=param_grid,\n",
        "    cv=cv,\n",
        "    scoring='precision',\n",
        "    n_jobs=-1,\n",
        "    verbose=1\n",
        ")\n",
        "\n",
        "\n",
        "print(\"- Memulai GridSearchCV (ini akan membutuhkan waktu)...\")\n",
        "grid_search.fit(X_train, y_train)\n",
        "print(\"- GridSearchCV selesai!\")\n",
        "\n",
        "print(f\"\\nParameter terbaik:\")\n",
        "for param, value in grid_search.best_params_.items():\n",
        "    print(f\"- {param}: {value}\")\n",
        "print(f\"- Best score (precision): {grid_search.best_score_:.4f}\")"
      ],
      "metadata": {
        "colab": {
          "base_uri": "https://localhost:8080/"
        },
        "id": "c2ARR2Pi9-K4",
        "outputId": "07f68537-34a2-4f6d-f428-7689bcf905c0"
      },
      "execution_count": 10,
      "outputs": [
        {
          "output_type": "stream",
          "name": "stdout",
          "text": [
            "\n",
            "9. Parameter tuning dengan fokus mengurangi false positive...\n",
            "- Memulai GridSearchCV (ini akan membutuhkan waktu)...\n",
            "Fitting 5 folds for each of 1458 candidates, totalling 7290 fits\n",
            "- GridSearchCV selesai!\n",
            "\n",
            "Parameter terbaik:\n",
            "- classifier__learning_rate: 0.05\n",
            "- classifier__max_depth: 3\n",
            "- classifier__max_features: sqrt\n",
            "- classifier__min_samples_leaf: 1\n",
            "- classifier__min_samples_split: 5\n",
            "- classifier__n_estimators: 100\n",
            "- classifier__subsample: 0.8\n",
            "- Best score (precision): 0.6795\n"
          ]
        }
      ]
    },
    {
      "cell_type": "code",
      "source": [
        "\n",
        "print(\"\\n10. Evaluasi model final...\")\n",
        "\n",
        "best_model = grid_search.best_estimator_\n",
        "y_pred = best_model.predict(X_test)\n",
        "y_proba = best_model.predict_proba(X_test)[:, 1]\n",
        "\n",
        "accuracy = accuracy_score(y_test, y_pred)\n",
        "precision = precision_score(y_test, y_pred)\n",
        "recall = recall_score(y_test, y_pred)\n",
        "f1 = f1_score(y_test, y_pred)\n",
        "roc_auc = roc_auc_score(y_test, y_proba)\n",
        "\n",
        "print(\"\\nHasil evaluasi model final:\")\n",
        "print(f\"- Accuracy: {accuracy:.4f}\")\n",
        "print(f\"- Precision: {precision:.4f} (Fokus utama untuk mengurangi false positive)\")\n",
        "print(f\"- Recall: {recall:.4f}\")\n",
        "print(f\"- F1 Score: {f1:.4f}\")\n",
        "print(f\"- ROC AUC: {roc_auc:.4f}\")\n",
        "\n",
        "print(\"\\nClassification Report:\")\n",
        "print(classification_report(y_test, y_pred))\n",
        "\n",
        "cm = confusion_matrix(y_test, y_pred)\n",
        "plt.figure(figsize=(8, 6))\n",
        "sns.heatmap(cm, annot=True, fmt='d', cmap='Blues')\n",
        "plt.title('Confusion Matrix - Model Final')\n",
        "plt.ylabel('Actual')\n",
        "plt.xlabel('Predicted')\n",
        "plt.savefig('visualizations/final_confusion_matrix.png')\n",
        "plt.close()\n",
        "print(\"- Confusion matrix final disimpan\")\n",
        "\n",
        "fpr, tpr, _ = roc_curve(y_test, y_proba)\n",
        "roc_auc = auc(fpr, tpr)\n",
        "plt.figure(figsize=(8, 6))\n",
        "plt.plot(fpr, tpr, color='darkorange', lw=2, label=f'ROC curve (area = {roc_auc:.2f})')\n",
        "plt.plot([0, 1], [0, 1], color='navy', lw=2, linestyle='--')\n",
        "plt.xlim([0.0, 1.0])\n",
        "plt.ylim([0.0, 1.05])\n",
        "plt.xlabel('False Positive Rate')\n",
        "plt.ylabel('True Positive Rate')\n",
        "plt.title('Receiver Operating Characteristic')\n",
        "plt.legend(loc=\"lower right\")\n",
        "plt.savefig('visualizations/roc_curve.png')\n",
        "plt.close()\n",
        "print(\"- ROC curve disimpan\")\n",
        "\n",
        "precision_curve, recall_curve, _ = precision_recall_curve(y_test, y_proba)\n",
        "avg_precision = average_precision_score(y_test, y_proba)\n",
        "plt.figure(figsize=(8, 6))\n",
        "plt.plot(recall_curve, precision_curve, color='blue', lw=2, label=f'PR curve (AP = {avg_precision:.2f})')\n",
        "plt.xlabel('Recall')\n",
        "plt.ylabel('Precision')\n",
        "plt.title('Precision-Recall Curve')\n",
        "plt.legend(loc=\"lower left\")\n",
        "plt.savefig('visualizations/precision_recall_curve.png')\n",
        "plt.close()\n",
        "print(\"- Precision-Recall curve disimpan\")"
      ],
      "metadata": {
        "colab": {
          "base_uri": "https://localhost:8080/"
        },
        "id": "7b9K1o7Q-B78",
        "outputId": "2c33889e-23ce-455f-92f9-178a9f636b9d"
      },
      "execution_count": 14,
      "outputs": [
        {
          "output_type": "stream",
          "name": "stdout",
          "text": [
            "\n",
            "10. Evaluasi model final...\n",
            "\n",
            "Hasil evaluasi model final:\n",
            "- Accuracy: 0.7993\n",
            "- Precision: 0.6585 (Fokus utama untuk mengurangi false positive)\n",
            "- Recall: 0.5027\n",
            "- F1 Score: 0.5701\n",
            "- ROC AUC: 0.8413\n",
            "\n",
            "Classification Report:\n",
            "              precision    recall  f1-score   support\n",
            "\n",
            "           0       0.83      0.91      0.87      1033\n",
            "           1       0.66      0.50      0.57       372\n",
            "\n",
            "    accuracy                           0.80      1405\n",
            "   macro avg       0.75      0.70      0.72      1405\n",
            "weighted avg       0.79      0.80      0.79      1405\n",
            "\n",
            "- Confusion matrix final disimpan\n",
            "- ROC curve disimpan\n",
            "- Precision-Recall curve disimpan\n"
          ]
        }
      ]
    },
    {
      "cell_type": "code",
      "source": [
        "\n",
        "print(\"\\n11. Perbandingan dengan model baseline...\")\n",
        "print(f\"                      Baseline  vs  Model Final\")\n",
        "print(f\"Accuracy:             {baseline_accuracy:.4f}    {accuracy:.4f}\")\n",
        "print(f\"Precision:            {baseline_precision:.4f}    {precision:.4f}\")\n",
        "print(f\"Recall:               {baseline_recall:.4f}    {recall:.4f}\")\n",
        "print(f\"F1 Score:             {baseline_f1:.4f}    {f1:.4f}\")\n",
        "\n",
        "improvement_precision = ((precision - baseline_precision) / baseline_precision) * 100\n",
        "print(f\"\\nPeningkatan precision: {improvement_precision:.2f}% (mengurangi false positive)\")\n",
        "\n",
        "print(\"\\n12. Menyimpan model final...\")\n",
        "joblib.dump(best_model, 'models/gradient_boosting_churn_model.pkl')\n",
        "print(\"- Model disimpan sebagai: models/gradient_boosting_churn_model.pkl\")\n",
        "\n",
        "print(\"\\n13. Membuat fungsi prediksi untuk data baru...\")\n",
        "\n",
        "def predict_churn(data, threshold=0.5):\n",
        "\n",
        "    required_features = important_features\n",
        "    missing_cols = [col for col in required_features if col not in data.columns]\n",
        "\n",
        "    if missing_cols:\n",
        "        raise ValueError(f\"Data input tidak memiliki kolom yang diperlukan: {missing_cols}\")\n",
        "\n",
        "    # Prediksi\n",
        "    proba = best_model.predict_proba(data[required_features])[:, 1]\n",
        "    predictions = (proba >= threshold).astype(int)\n",
        "\n",
        "    # Hasil\n",
        "    result = data.copy()\n",
        "    result['churn_probability'] = proba\n",
        "    result['churn_prediction'] = predictions\n",
        "\n",
        "    return result\n",
        "\n",
        "sample_data = X_test.iloc[:5].copy()\n",
        "sample_result = predict_churn(sample_data)\n",
        "\n",
        "print(\"\\nContoh prediksi untuk 5 data pertama:\")\n",
        "print(sample_result[['churn_probability', 'churn_prediction']])\n",
        "\n",
        "print(\"\\nModel Gradient Boosting untuk prediksi churn telah berhasil diimplementasikan!\")"
      ],
      "metadata": {
        "colab": {
          "base_uri": "https://localhost:8080/"
        },
        "id": "K_wo_nEW-Ej0",
        "outputId": "b6c1c2bf-1501-4501-cafd-7f2692d60e8d"
      },
      "execution_count": 15,
      "outputs": [
        {
          "output_type": "stream",
          "name": "stdout",
          "text": [
            "\n",
            "11. Perbandingan dengan model baseline...\n",
            "                      Baseline  vs  Model Final\n",
            "Accuracy:             0.8050    0.7993\n",
            "Precision:            0.6678    0.6585\n",
            "Recall:               0.5242    0.5027\n",
            "F1 Score:             0.5873    0.5701\n",
            "\n",
            "Peningkatan precision: -1.40% (mengurangi false positive)\n",
            "\n",
            "12. Menyimpan model final...\n",
            "- Model disimpan sebagai: models/gradient_boosting_churn_model.pkl\n",
            "\n",
            "13. Membuat fungsi prediksi untuk data baru...\n",
            "\n",
            "Contoh prediksi untuk 5 data pertama:\n",
            "      churn_probability  churn_prediction\n",
            "5627           0.692841                 1\n",
            "6126           0.439016                 0\n",
            "2361           0.461931                 0\n",
            "2201           0.089295                 0\n",
            "832            0.058647                 0\n",
            "\n",
            "Model Gradient Boosting untuk prediksi churn telah berhasil diimplementasikan!\n"
          ]
        }
      ]
    }
  ]
}