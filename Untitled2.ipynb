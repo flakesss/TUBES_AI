{
  "nbformat": 4,
  "nbformat_minor": 0,
  "metadata": {
    "colab": {
      "provenance": [],
      "gpuType": "T4",
      "authorship_tag": "ABX9TyN8Q8ltMbLKhS8mGmF3VQ0v",
      "include_colab_link": true
    },
    "kernelspec": {
      "name": "python3",
      "display_name": "Python 3"
    },
    "language_info": {
      "name": "python"
    },
    "accelerator": "GPU"
  },
  "cells": [
    {
      "cell_type": "markdown",
      "metadata": {
        "id": "view-in-github",
        "colab_type": "text"
      },
      "source": [
        "<a href=\"https://colab.research.google.com/github/flakesss/TUBES_AI/blob/hatta/Untitled2.ipynb\" target=\"_parent\"><img src=\"https://colab.research.google.com/assets/colab-badge.svg\" alt=\"Open In Colab\"/></a>"
      ]
    },
    {
      "cell_type": "code",
      "execution_count": 1,
      "metadata": {
        "id": "juZZcy0LLlZN"
      },
      "outputs": [],
      "source": [
        "import pandas as pd\n",
        "import numpy as np\n",
        "import matplotlib.pyplot as plt\n",
        "import seaborn as sns\n",
        "from sklearn.model_selection import train_test_split, StratifiedKFold, GridSearchCV\n",
        "from sklearn.preprocessing import StandardScaler, OneHotEncoder\n",
        "from sklearn.compose import ColumnTransformer\n",
        "from sklearn.pipeline import Pipeline\n",
        "from sklearn.metrics import accuracy_score, precision_score, recall_score, f1_score, roc_auc_score, confusion_matrix\n",
        "from sklearn.metrics import classification_report, roc_curve, auc\n",
        "import xgboost as xgb\n",
        "import joblib\n",
        "import os\n",
        "import warnings\n",
        "warnings.filterwarnings('ignore')"
      ]
    },
    {
      "cell_type": "code",
      "source": [
        "os.makedirs('models', exist_ok=True)\n",
        "os.makedirs('visualizations', exist_ok=True)"
      ],
      "metadata": {
        "id": "KQfYLUvoLsNa"
      },
      "execution_count": 7,
      "outputs": []
    },
    {
      "cell_type": "code",
      "source": [
        "data_path = '/content/Telco Customer Churn.xlsx'"
      ],
      "metadata": {
        "id": "wjj_YQRWLvGx"
      },
      "execution_count": 8,
      "outputs": []
    },
    {
      "cell_type": "code",
      "source": [
        "try:\n",
        "    telco_data = pd.read_excel(data_path)\n",
        "    print(f\"Data berhasil dimuat dari {data_path}\")\n",
        "except Exception as e:\n",
        "    print(f\"Error saat memuat file Excel: {e}\")\n",
        "    try:\n",
        "        csv_path = 'Telco Customer Churn.csv'\n",
        "        telco_data = pd.read_csv(csv_path)\n",
        "        print(f\"Data berhasil dimuat dari {csv_path}\")\n",
        "    except Exception as e2:\n",
        "        print(f\"Error saat memuat file CSV: {e2}\")\n",
        "        raise Exception(\"Tidak dapat memuat data. Pastikan file data tersedia.\")\n"
      ],
      "metadata": {
        "colab": {
          "base_uri": "https://localhost:8080/"
        },
        "id": "McHONZmgLyvx",
        "outputId": "590b3df3-62c4-4c02-adfa-d28559e52685"
      },
      "execution_count": 9,
      "outputs": [
        {
          "output_type": "stream",
          "name": "stdout",
          "text": [
            "Data berhasil dimuat dari /content/Telco Customer Churn.xlsx\n"
          ]
        }
      ]
    },
    {
      "cell_type": "code",
      "source": [
        "print(\"\\nInformasi data:\")\n",
        "print(f\"Jumlah baris: {telco_data.shape[0]}\")\n",
        "print(f\"Jumlah kolom: {telco_data.shape[1]}\")\n",
        "print(\"\\nLima baris pertama:\")\n",
        "print(telco_data.head())"
      ],
      "metadata": {
        "colab": {
          "base_uri": "https://localhost:8080/"
        },
        "id": "zSkwQ0YmL35H",
        "outputId": "df200f83-c9e1-4f9d-b022-62cafaa49fab"
      },
      "execution_count": 10,
      "outputs": [
        {
          "output_type": "stream",
          "name": "stdout",
          "text": [
            "\n",
            "Informasi data:\n",
            "Jumlah baris: 7043\n",
            "Jumlah kolom: 1\n",
            "\n",
            "Lima baris pertama:\n",
            "  customerID,gender,SeniorCitizen,Partner,Dependents,tenure,PhoneService,MultipleLines,InternetService,OnlineSecurity,OnlineBackup,DeviceProtection,TechSupport,StreamingTV,StreamingMovies,Contract,PaperlessBilling,PaymentMethod,MonthlyCharges,TotalCharges,Churn\n",
            "0  7590-VHVEG,Female,0,Yes,No,1,No,No phone servi...                                                                                                                                                                                                                 \n",
            "1  5575-GNVDE,Male,0,No,No,34,Yes,No,DSL,Yes,No,Y...                                                                                                                                                                                                                 \n",
            "2  3668-QPYBK,Male,0,No,No,2,Yes,No,DSL,Yes,Yes,N...                                                                                                                                                                                                                 \n",
            "3  7795-CFOCW,Male,0,No,No,45,No,No phone service...                                                                                                                                                                                                                 \n",
            "4  9237-HQITU,Female,0,No,No,2,Yes,No,Fiber optic...                                                                                                                                                                                                                 \n"
          ]
        }
      ]
    },
    {
      "cell_type": "code",
      "source": [
        "if telco_data.shape[1] == 1 and ',' in str(telco_data.iloc[0, 0]):\n",
        "    print(\"\\nDeteksi masalah format: Data ada dalam satu kolom. Parsing data...\")\n",
        "\n",
        "    header = telco_data.columns[0].split(',')\n",
        "\n",
        "    parsed_rows = []\n",
        "    for i in range(len(telco_data)):\n",
        "        values = telco_data.iloc[i, 0].split(',')\n",
        "        if len(values) == len(header):\n",
        "            parsed_rows.append(values)\n",
        "\n",
        "    telco_data = pd.DataFrame(parsed_rows, columns=header)\n",
        "    print(\"Data berhasil di-parse.\")"
      ],
      "metadata": {
        "colab": {
          "base_uri": "https://localhost:8080/"
        },
        "id": "h-5Q1S1qL5_1",
        "outputId": "65114bf4-7d92-4583-f822-685e57942eaf"
      },
      "execution_count": 11,
      "outputs": [
        {
          "output_type": "stream",
          "name": "stdout",
          "text": [
            "\n",
            "Deteksi masalah format: Data ada dalam satu kolom. Parsing data...\n",
            "Data berhasil di-parse.\n"
          ]
        }
      ]
    },
    {
      "cell_type": "code",
      "source": [
        "# 3. Preprocessing data\n",
        "print(\"\\n2. Preprocessing data...\")\n",
        "\n",
        "# Hapus kolom yang tidak berpengaruh\n",
        "print(\"Menghapus kolom yang tidak berpengaruh...\")\n",
        "# customerID tidak relevan untuk prediksi\n",
        "columns_to_drop = ['customerID']\n",
        "telco_data = telco_data.drop(columns=columns_to_drop, errors='ignore')\n",
        "\n",
        "# Konversi TotalCharges ke numerik\n",
        "if 'TotalCharges' in telco_data.columns:\n",
        "    telco_data['TotalCharges'] = pd.to_numeric(telco_data['TotalCharges'], errors='coerce')\n",
        "\n",
        "# Cek missing values\n",
        "missing_data = telco_data.isnull().sum()\n",
        "print(f\"\\nMissing values per kolom:\")\n",
        "print(missing_data[missing_data > 0])\n",
        "\n",
        "# Handle missing values\n",
        "telco_data.fillna(telco_data.median(), inplace=True)\n",
        "\n",
        "# Konversi target 'Churn' ke biner\n",
        "print(\"\\nDistribusi target 'Churn':\")\n",
        "if 'Churn' in telco_data.columns:\n",
        "    print(telco_data['Churn'].value_counts())\n",
        "    # Konversi 'Yes'/'No' ke 1/0\n",
        "    if telco_data['Churn'].dtype == 'object':\n",
        "        telco_data['Churn'] = telco_data['Churn'].map({'Yes': 1, 'No': 0})\n",
        "    print(\"Target 'Churn' dikonversi ke nilai biner 1/0\")"
      ],
      "metadata": {
        "colab": {
          "base_uri": "https://localhost:8080/",
          "height": 616
        },
        "id": "4evpYySVMECo",
        "outputId": "d0894076-f6dc-4666-971e-7c10c715eb30"
      },
      "execution_count": 13,
      "outputs": [
        {
          "output_type": "stream",
          "name": "stdout",
          "text": [
            "\n",
            "2. Preprocessing data...\n",
            "Menghapus kolom yang tidak berpengaruh...\n",
            "\n",
            "Missing values per kolom:\n",
            "TotalCharges    11\n",
            "dtype: int64\n"
          ]
        },
        {
          "output_type": "error",
          "ename": "TypeError",
          "evalue": "Cannot convert [['Female' 'Male' 'Male' ... 'Female' 'Male' 'Male']\n ['0' '0' '0' ... '0' '1' '0']\n ['Yes' 'No' 'No' ... 'Yes' 'Yes' 'No']\n ...\n ['Yes' 'No' 'Yes' ... 'Yes' 'Yes' 'Yes']\n ['Electronic check' 'Mailed check' 'Mailed check' ... 'Electronic check'\n  'Mailed check' 'Bank transfer (automatic)']\n ['29.85' '56.95' '53.85' ... '29.6' '74.4' '105.65']] to numeric",
          "traceback": [
            "\u001b[0;31m---------------------------------------------------------------------------\u001b[0m",
            "\u001b[0;31mTypeError\u001b[0m                                 Traceback (most recent call last)",
            "\u001b[0;32m<ipython-input-13-f2c67cf41849>\u001b[0m in \u001b[0;36m<cell line: 0>\u001b[0;34m()\u001b[0m\n\u001b[1;32m     18\u001b[0m \u001b[0;34m\u001b[0m\u001b[0m\n\u001b[1;32m     19\u001b[0m \u001b[0;31m# Handle missing values\u001b[0m\u001b[0;34m\u001b[0m\u001b[0;34m\u001b[0m\u001b[0m\n\u001b[0;32m---> 20\u001b[0;31m \u001b[0mtelco_data\u001b[0m\u001b[0;34m.\u001b[0m\u001b[0mfillna\u001b[0m\u001b[0;34m(\u001b[0m\u001b[0mtelco_data\u001b[0m\u001b[0;34m.\u001b[0m\u001b[0mmedian\u001b[0m\u001b[0;34m(\u001b[0m\u001b[0;34m)\u001b[0m\u001b[0;34m,\u001b[0m \u001b[0minplace\u001b[0m\u001b[0;34m=\u001b[0m\u001b[0;32mTrue\u001b[0m\u001b[0;34m)\u001b[0m\u001b[0;34m\u001b[0m\u001b[0;34m\u001b[0m\u001b[0m\n\u001b[0m\u001b[1;32m     21\u001b[0m \u001b[0;34m\u001b[0m\u001b[0m\n\u001b[1;32m     22\u001b[0m \u001b[0;31m# Konversi target 'Churn' ke biner\u001b[0m\u001b[0;34m\u001b[0m\u001b[0;34m\u001b[0m\u001b[0m\n",
            "\u001b[0;32m/usr/local/lib/python3.11/dist-packages/pandas/core/frame.py\u001b[0m in \u001b[0;36mmedian\u001b[0;34m(self, axis, skipna, numeric_only, **kwargs)\u001b[0m\n\u001b[1;32m  11704\u001b[0m         \u001b[0;34m**\u001b[0m\u001b[0mkwargs\u001b[0m\u001b[0;34m,\u001b[0m\u001b[0;34m\u001b[0m\u001b[0;34m\u001b[0m\u001b[0m\n\u001b[1;32m  11705\u001b[0m     ):\n\u001b[0;32m> 11706\u001b[0;31m         \u001b[0mresult\u001b[0m \u001b[0;34m=\u001b[0m \u001b[0msuper\u001b[0m\u001b[0;34m(\u001b[0m\u001b[0;34m)\u001b[0m\u001b[0;34m.\u001b[0m\u001b[0mmedian\u001b[0m\u001b[0;34m(\u001b[0m\u001b[0maxis\u001b[0m\u001b[0;34m,\u001b[0m \u001b[0mskipna\u001b[0m\u001b[0;34m,\u001b[0m \u001b[0mnumeric_only\u001b[0m\u001b[0;34m,\u001b[0m \u001b[0;34m**\u001b[0m\u001b[0mkwargs\u001b[0m\u001b[0;34m)\u001b[0m\u001b[0;34m\u001b[0m\u001b[0;34m\u001b[0m\u001b[0m\n\u001b[0m\u001b[1;32m  11707\u001b[0m         \u001b[0;32mif\u001b[0m \u001b[0misinstance\u001b[0m\u001b[0;34m(\u001b[0m\u001b[0mresult\u001b[0m\u001b[0;34m,\u001b[0m \u001b[0mSeries\u001b[0m\u001b[0;34m)\u001b[0m\u001b[0;34m:\u001b[0m\u001b[0;34m\u001b[0m\u001b[0;34m\u001b[0m\u001b[0m\n\u001b[1;32m  11708\u001b[0m             \u001b[0mresult\u001b[0m \u001b[0;34m=\u001b[0m \u001b[0mresult\u001b[0m\u001b[0;34m.\u001b[0m\u001b[0m__finalize__\u001b[0m\u001b[0;34m(\u001b[0m\u001b[0mself\u001b[0m\u001b[0;34m,\u001b[0m \u001b[0mmethod\u001b[0m\u001b[0;34m=\u001b[0m\u001b[0;34m\"median\"\u001b[0m\u001b[0;34m)\u001b[0m\u001b[0;34m\u001b[0m\u001b[0;34m\u001b[0m\u001b[0m\n",
            "\u001b[0;32m/usr/local/lib/python3.11/dist-packages/pandas/core/generic.py\u001b[0m in \u001b[0;36mmedian\u001b[0;34m(self, axis, skipna, numeric_only, **kwargs)\u001b[0m\n\u001b[1;32m  12429\u001b[0m         \u001b[0;34m**\u001b[0m\u001b[0mkwargs\u001b[0m\u001b[0;34m,\u001b[0m\u001b[0;34m\u001b[0m\u001b[0;34m\u001b[0m\u001b[0m\n\u001b[1;32m  12430\u001b[0m     ) -> Series | float:\n\u001b[0;32m> 12431\u001b[0;31m         return self._stat_function(\n\u001b[0m\u001b[1;32m  12432\u001b[0m             \u001b[0;34m\"median\"\u001b[0m\u001b[0;34m,\u001b[0m \u001b[0mnanops\u001b[0m\u001b[0;34m.\u001b[0m\u001b[0mnanmedian\u001b[0m\u001b[0;34m,\u001b[0m \u001b[0maxis\u001b[0m\u001b[0;34m,\u001b[0m \u001b[0mskipna\u001b[0m\u001b[0;34m,\u001b[0m \u001b[0mnumeric_only\u001b[0m\u001b[0;34m,\u001b[0m \u001b[0;34m**\u001b[0m\u001b[0mkwargs\u001b[0m\u001b[0;34m\u001b[0m\u001b[0;34m\u001b[0m\u001b[0m\n\u001b[1;32m  12433\u001b[0m         )\n",
            "\u001b[0;32m/usr/local/lib/python3.11/dist-packages/pandas/core/generic.py\u001b[0m in \u001b[0;36m_stat_function\u001b[0;34m(self, name, func, axis, skipna, numeric_only, **kwargs)\u001b[0m\n\u001b[1;32m  12375\u001b[0m         \u001b[0mvalidate_bool_kwarg\u001b[0m\u001b[0;34m(\u001b[0m\u001b[0mskipna\u001b[0m\u001b[0;34m,\u001b[0m \u001b[0;34m\"skipna\"\u001b[0m\u001b[0;34m,\u001b[0m \u001b[0mnone_allowed\u001b[0m\u001b[0;34m=\u001b[0m\u001b[0;32mFalse\u001b[0m\u001b[0;34m)\u001b[0m\u001b[0;34m\u001b[0m\u001b[0;34m\u001b[0m\u001b[0m\n\u001b[1;32m  12376\u001b[0m \u001b[0;34m\u001b[0m\u001b[0m\n\u001b[0;32m> 12377\u001b[0;31m         return self._reduce(\n\u001b[0m\u001b[1;32m  12378\u001b[0m             \u001b[0mfunc\u001b[0m\u001b[0;34m,\u001b[0m \u001b[0mname\u001b[0m\u001b[0;34m=\u001b[0m\u001b[0mname\u001b[0m\u001b[0;34m,\u001b[0m \u001b[0maxis\u001b[0m\u001b[0;34m=\u001b[0m\u001b[0maxis\u001b[0m\u001b[0;34m,\u001b[0m \u001b[0mskipna\u001b[0m\u001b[0;34m=\u001b[0m\u001b[0mskipna\u001b[0m\u001b[0;34m,\u001b[0m \u001b[0mnumeric_only\u001b[0m\u001b[0;34m=\u001b[0m\u001b[0mnumeric_only\u001b[0m\u001b[0;34m\u001b[0m\u001b[0;34m\u001b[0m\u001b[0m\n\u001b[1;32m  12379\u001b[0m         )\n",
            "\u001b[0;32m/usr/local/lib/python3.11/dist-packages/pandas/core/frame.py\u001b[0m in \u001b[0;36m_reduce\u001b[0;34m(self, op, name, axis, skipna, numeric_only, filter_type, **kwds)\u001b[0m\n\u001b[1;32m  11560\u001b[0m         \u001b[0;31m# After possibly _get_data and transposing, we are now in the\u001b[0m\u001b[0;34m\u001b[0m\u001b[0;34m\u001b[0m\u001b[0m\n\u001b[1;32m  11561\u001b[0m         \u001b[0;31m#  simple case where we can use BlockManager.reduce\u001b[0m\u001b[0;34m\u001b[0m\u001b[0;34m\u001b[0m\u001b[0m\n\u001b[0;32m> 11562\u001b[0;31m         \u001b[0mres\u001b[0m \u001b[0;34m=\u001b[0m \u001b[0mdf\u001b[0m\u001b[0;34m.\u001b[0m\u001b[0m_mgr\u001b[0m\u001b[0;34m.\u001b[0m\u001b[0mreduce\u001b[0m\u001b[0;34m(\u001b[0m\u001b[0mblk_func\u001b[0m\u001b[0;34m)\u001b[0m\u001b[0;34m\u001b[0m\u001b[0;34m\u001b[0m\u001b[0m\n\u001b[0m\u001b[1;32m  11563\u001b[0m         \u001b[0mout\u001b[0m \u001b[0;34m=\u001b[0m \u001b[0mdf\u001b[0m\u001b[0;34m.\u001b[0m\u001b[0m_constructor_from_mgr\u001b[0m\u001b[0;34m(\u001b[0m\u001b[0mres\u001b[0m\u001b[0;34m,\u001b[0m \u001b[0maxes\u001b[0m\u001b[0;34m=\u001b[0m\u001b[0mres\u001b[0m\u001b[0;34m.\u001b[0m\u001b[0maxes\u001b[0m\u001b[0;34m)\u001b[0m\u001b[0;34m.\u001b[0m\u001b[0miloc\u001b[0m\u001b[0;34m[\u001b[0m\u001b[0;36m0\u001b[0m\u001b[0;34m]\u001b[0m\u001b[0;34m\u001b[0m\u001b[0;34m\u001b[0m\u001b[0m\n\u001b[1;32m  11564\u001b[0m         \u001b[0;32mif\u001b[0m \u001b[0mout_dtype\u001b[0m \u001b[0;32mis\u001b[0m \u001b[0;32mnot\u001b[0m \u001b[0;32mNone\u001b[0m \u001b[0;32mand\u001b[0m \u001b[0mout\u001b[0m\u001b[0;34m.\u001b[0m\u001b[0mdtype\u001b[0m \u001b[0;34m!=\u001b[0m \u001b[0;34m\"boolean\"\u001b[0m\u001b[0;34m:\u001b[0m\u001b[0;34m\u001b[0m\u001b[0;34m\u001b[0m\u001b[0m\n",
            "\u001b[0;32m/usr/local/lib/python3.11/dist-packages/pandas/core/internals/managers.py\u001b[0m in \u001b[0;36mreduce\u001b[0;34m(self, func)\u001b[0m\n\u001b[1;32m   1498\u001b[0m         \u001b[0mres_blocks\u001b[0m\u001b[0;34m:\u001b[0m \u001b[0mlist\u001b[0m\u001b[0;34m[\u001b[0m\u001b[0mBlock\u001b[0m\u001b[0;34m]\u001b[0m \u001b[0;34m=\u001b[0m \u001b[0;34m[\u001b[0m\u001b[0;34m]\u001b[0m\u001b[0;34m\u001b[0m\u001b[0;34m\u001b[0m\u001b[0m\n\u001b[1;32m   1499\u001b[0m         \u001b[0;32mfor\u001b[0m \u001b[0mblk\u001b[0m \u001b[0;32min\u001b[0m \u001b[0mself\u001b[0m\u001b[0;34m.\u001b[0m\u001b[0mblocks\u001b[0m\u001b[0;34m:\u001b[0m\u001b[0;34m\u001b[0m\u001b[0;34m\u001b[0m\u001b[0m\n\u001b[0;32m-> 1500\u001b[0;31m             \u001b[0mnbs\u001b[0m \u001b[0;34m=\u001b[0m \u001b[0mblk\u001b[0m\u001b[0;34m.\u001b[0m\u001b[0mreduce\u001b[0m\u001b[0;34m(\u001b[0m\u001b[0mfunc\u001b[0m\u001b[0;34m)\u001b[0m\u001b[0;34m\u001b[0m\u001b[0;34m\u001b[0m\u001b[0m\n\u001b[0m\u001b[1;32m   1501\u001b[0m             \u001b[0mres_blocks\u001b[0m\u001b[0;34m.\u001b[0m\u001b[0mextend\u001b[0m\u001b[0;34m(\u001b[0m\u001b[0mnbs\u001b[0m\u001b[0;34m)\u001b[0m\u001b[0;34m\u001b[0m\u001b[0;34m\u001b[0m\u001b[0m\n\u001b[1;32m   1502\u001b[0m \u001b[0;34m\u001b[0m\u001b[0m\n",
            "\u001b[0;32m/usr/local/lib/python3.11/dist-packages/pandas/core/internals/blocks.py\u001b[0m in \u001b[0;36mreduce\u001b[0;34m(self, func)\u001b[0m\n\u001b[1;32m    402\u001b[0m         \u001b[0;32massert\u001b[0m \u001b[0mself\u001b[0m\u001b[0;34m.\u001b[0m\u001b[0mndim\u001b[0m \u001b[0;34m==\u001b[0m \u001b[0;36m2\u001b[0m\u001b[0;34m\u001b[0m\u001b[0;34m\u001b[0m\u001b[0m\n\u001b[1;32m    403\u001b[0m \u001b[0;34m\u001b[0m\u001b[0m\n\u001b[0;32m--> 404\u001b[0;31m         \u001b[0mresult\u001b[0m \u001b[0;34m=\u001b[0m \u001b[0mfunc\u001b[0m\u001b[0;34m(\u001b[0m\u001b[0mself\u001b[0m\u001b[0;34m.\u001b[0m\u001b[0mvalues\u001b[0m\u001b[0;34m)\u001b[0m\u001b[0;34m\u001b[0m\u001b[0;34m\u001b[0m\u001b[0m\n\u001b[0m\u001b[1;32m    405\u001b[0m \u001b[0;34m\u001b[0m\u001b[0m\n\u001b[1;32m    406\u001b[0m         \u001b[0;32mif\u001b[0m \u001b[0mself\u001b[0m\u001b[0;34m.\u001b[0m\u001b[0mvalues\u001b[0m\u001b[0;34m.\u001b[0m\u001b[0mndim\u001b[0m \u001b[0;34m==\u001b[0m \u001b[0;36m1\u001b[0m\u001b[0;34m:\u001b[0m\u001b[0;34m\u001b[0m\u001b[0;34m\u001b[0m\u001b[0m\n",
            "\u001b[0;32m/usr/local/lib/python3.11/dist-packages/pandas/core/frame.py\u001b[0m in \u001b[0;36mblk_func\u001b[0;34m(values, axis)\u001b[0m\n\u001b[1;32m  11479\u001b[0m                     \u001b[0;32mreturn\u001b[0m \u001b[0mnp\u001b[0m\u001b[0;34m.\u001b[0m\u001b[0marray\u001b[0m\u001b[0;34m(\u001b[0m\u001b[0;34m[\u001b[0m\u001b[0mresult\u001b[0m\u001b[0;34m]\u001b[0m\u001b[0;34m)\u001b[0m\u001b[0;34m\u001b[0m\u001b[0;34m\u001b[0m\u001b[0m\n\u001b[1;32m  11480\u001b[0m             \u001b[0;32melse\u001b[0m\u001b[0;34m:\u001b[0m\u001b[0;34m\u001b[0m\u001b[0;34m\u001b[0m\u001b[0m\n\u001b[0;32m> 11481\u001b[0;31m                 \u001b[0;32mreturn\u001b[0m \u001b[0mop\u001b[0m\u001b[0;34m(\u001b[0m\u001b[0mvalues\u001b[0m\u001b[0;34m,\u001b[0m \u001b[0maxis\u001b[0m\u001b[0;34m=\u001b[0m\u001b[0maxis\u001b[0m\u001b[0;34m,\u001b[0m \u001b[0mskipna\u001b[0m\u001b[0;34m=\u001b[0m\u001b[0mskipna\u001b[0m\u001b[0;34m,\u001b[0m \u001b[0;34m**\u001b[0m\u001b[0mkwds\u001b[0m\u001b[0;34m)\u001b[0m\u001b[0;34m\u001b[0m\u001b[0;34m\u001b[0m\u001b[0m\n\u001b[0m\u001b[1;32m  11482\u001b[0m \u001b[0;34m\u001b[0m\u001b[0m\n\u001b[1;32m  11483\u001b[0m         \u001b[0;32mdef\u001b[0m \u001b[0m_get_data\u001b[0m\u001b[0;34m(\u001b[0m\u001b[0;34m)\u001b[0m \u001b[0;34m->\u001b[0m \u001b[0mDataFrame\u001b[0m\u001b[0;34m:\u001b[0m\u001b[0;34m\u001b[0m\u001b[0;34m\u001b[0m\u001b[0m\n",
            "\u001b[0;32m/usr/local/lib/python3.11/dist-packages/pandas/core/nanops.py\u001b[0m in \u001b[0;36mf\u001b[0;34m(values, axis, skipna, **kwds)\u001b[0m\n\u001b[1;32m    145\u001b[0m                     \u001b[0mresult\u001b[0m \u001b[0;34m=\u001b[0m \u001b[0malt\u001b[0m\u001b[0;34m(\u001b[0m\u001b[0mvalues\u001b[0m\u001b[0;34m,\u001b[0m \u001b[0maxis\u001b[0m\u001b[0;34m=\u001b[0m\u001b[0maxis\u001b[0m\u001b[0;34m,\u001b[0m \u001b[0mskipna\u001b[0m\u001b[0;34m=\u001b[0m\u001b[0mskipna\u001b[0m\u001b[0;34m,\u001b[0m \u001b[0;34m**\u001b[0m\u001b[0mkwds\u001b[0m\u001b[0;34m)\u001b[0m\u001b[0;34m\u001b[0m\u001b[0;34m\u001b[0m\u001b[0m\n\u001b[1;32m    146\u001b[0m             \u001b[0;32melse\u001b[0m\u001b[0;34m:\u001b[0m\u001b[0;34m\u001b[0m\u001b[0;34m\u001b[0m\u001b[0m\n\u001b[0;32m--> 147\u001b[0;31m                 \u001b[0mresult\u001b[0m \u001b[0;34m=\u001b[0m \u001b[0malt\u001b[0m\u001b[0;34m(\u001b[0m\u001b[0mvalues\u001b[0m\u001b[0;34m,\u001b[0m \u001b[0maxis\u001b[0m\u001b[0;34m=\u001b[0m\u001b[0maxis\u001b[0m\u001b[0;34m,\u001b[0m \u001b[0mskipna\u001b[0m\u001b[0;34m=\u001b[0m\u001b[0mskipna\u001b[0m\u001b[0;34m,\u001b[0m \u001b[0;34m**\u001b[0m\u001b[0mkwds\u001b[0m\u001b[0;34m)\u001b[0m\u001b[0;34m\u001b[0m\u001b[0;34m\u001b[0m\u001b[0m\n\u001b[0m\u001b[1;32m    148\u001b[0m \u001b[0;34m\u001b[0m\u001b[0m\n\u001b[1;32m    149\u001b[0m             \u001b[0;32mreturn\u001b[0m \u001b[0mresult\u001b[0m\u001b[0;34m\u001b[0m\u001b[0;34m\u001b[0m\u001b[0m\n",
            "\u001b[0;32m/usr/local/lib/python3.11/dist-packages/pandas/core/nanops.py\u001b[0m in \u001b[0;36mnanmedian\u001b[0;34m(values, axis, skipna, mask)\u001b[0m\n\u001b[1;32m    785\u001b[0m             \u001b[0minferred\u001b[0m \u001b[0;34m=\u001b[0m \u001b[0mlib\u001b[0m\u001b[0;34m.\u001b[0m\u001b[0minfer_dtype\u001b[0m\u001b[0;34m(\u001b[0m\u001b[0mvalues\u001b[0m\u001b[0;34m)\u001b[0m\u001b[0;34m\u001b[0m\u001b[0;34m\u001b[0m\u001b[0m\n\u001b[1;32m    786\u001b[0m             \u001b[0;32mif\u001b[0m \u001b[0minferred\u001b[0m \u001b[0;32min\u001b[0m \u001b[0;34m[\u001b[0m\u001b[0;34m\"string\"\u001b[0m\u001b[0;34m,\u001b[0m \u001b[0;34m\"mixed\"\u001b[0m\u001b[0;34m]\u001b[0m\u001b[0;34m:\u001b[0m\u001b[0;34m\u001b[0m\u001b[0;34m\u001b[0m\u001b[0m\n\u001b[0;32m--> 787\u001b[0;31m                 \u001b[0;32mraise\u001b[0m \u001b[0mTypeError\u001b[0m\u001b[0;34m(\u001b[0m\u001b[0;34mf\"Cannot convert {values} to numeric\"\u001b[0m\u001b[0;34m)\u001b[0m\u001b[0;34m\u001b[0m\u001b[0;34m\u001b[0m\u001b[0m\n\u001b[0m\u001b[1;32m    788\u001b[0m         \u001b[0;32mtry\u001b[0m\u001b[0;34m:\u001b[0m\u001b[0;34m\u001b[0m\u001b[0;34m\u001b[0m\u001b[0m\n\u001b[1;32m    789\u001b[0m             \u001b[0mvalues\u001b[0m \u001b[0;34m=\u001b[0m \u001b[0mvalues\u001b[0m\u001b[0;34m.\u001b[0m\u001b[0mastype\u001b[0m\u001b[0;34m(\u001b[0m\u001b[0;34m\"f8\"\u001b[0m\u001b[0;34m)\u001b[0m\u001b[0;34m\u001b[0m\u001b[0;34m\u001b[0m\u001b[0m\n",
            "\u001b[0;31mTypeError\u001b[0m: Cannot convert [['Female' 'Male' 'Male' ... 'Female' 'Male' 'Male']\n ['0' '0' '0' ... '0' '1' '0']\n ['Yes' 'No' 'No' ... 'Yes' 'Yes' 'No']\n ...\n ['Yes' 'No' 'Yes' ... 'Yes' 'Yes' 'Yes']\n ['Electronic check' 'Mailed check' 'Mailed check' ... 'Electronic check'\n  'Mailed check' 'Bank transfer (automatic)']\n ['29.85' '56.95' '53.85' ... '29.6' '74.4' '105.65']] to numeric"
          ]
        }
      ]
    },
    {
      "source": [
        "columns_to_drop = ['customerID']\n",
        "telco_data = telco_data.drop(columns=columns_to_drop, errors='ignore')\n",
        "\n",
        "if 'TotalCharges' in telco_data.columns:\n",
        "    telco_data['TotalCharges'] = pd.to_numeric(telco_data['TotalCharges'], errors='coerce')\n",
        "\n",
        "missing_data = telco_data.isnull().sum()\n",
        "print(f\"\\nMissing values per kolom:\")\n",
        "print(missing_data[missing_data > 0])\n",
        "\n",
        "numerical_cols = telco_data.select_dtypes(include=np.number).columns\n",
        "telco_data[numerical_cols] = telco_data[numerical_cols].fillna(telco_data[numerical_cols].median())\n",
        "\n",
        "print(\"\\nDistribusi target 'Churn':\")\n",
        "if 'Churn' in telco_data.columns:\n",
        "    print(telco_data['Churn'].value_counts())\n",
        "    if telco_data['Churn'].dtype == 'object':\n",
        "        telco_data['Churn'] = telco_data['Churn'].map({'Yes': 1, 'No': 0})\n",
        "    print(\"Target 'Churn' dikonversi ke nilai biner 1/0\")"
      ],
      "cell_type": "code",
      "metadata": {
        "colab": {
          "base_uri": "https://localhost:8080/"
        },
        "id": "EU02WsogNn8t",
        "outputId": "517834e5-338f-4633-b90c-503f0b6d22f5"
      },
      "execution_count": 16,
      "outputs": [
        {
          "output_type": "stream",
          "name": "stdout",
          "text": [
            "\n",
            "2. Preprocessing data...\n",
            "Menghapus kolom yang tidak berpengaruh...\n",
            "\n",
            "Missing values per kolom:\n",
            "TotalCharges    11\n",
            "dtype: int64\n",
            "\n",
            "Distribusi target 'Churn':\n",
            "Churn\n",
            "No     5174\n",
            "Yes    1869\n",
            "Name: count, dtype: int64\n",
            "Target 'Churn' dikonversi ke nilai biner 1/0\n"
          ]
        }
      ]
    },
    {
      "cell_type": "code",
      "source": [
        "categorical_cols = telco_data.select_dtypes(include=['object', 'category']).columns.tolist()\n",
        "numerical_cols = telco_data.select_dtypes(include=['int64', 'float64']).columns.tolist()\n",
        "\n",
        "if 'Churn' in numerical_cols:\n",
        "    numerical_cols.remove('Churn')\n",
        "\n",
        "print(f\"Kolom kategorikal: {categorical_cols}\")\n",
        "print(f\"Kolom numerik: {numerical_cols}\")\n",
        "\n",
        "# Menyiapkan X dan y\n",
        "X = telco_data.drop('Churn', axis=1)\n",
        "y = telco_data['Churn']\n"
      ],
      "metadata": {
        "colab": {
          "base_uri": "https://localhost:8080/"
        },
        "id": "pJio6EgrMNzI",
        "outputId": "2ac1b3ad-16cd-441f-c6a4-3f929f84e7c4"
      },
      "execution_count": 17,
      "outputs": [
        {
          "output_type": "stream",
          "name": "stdout",
          "text": [
            "\n",
            "3. Feature selection dan engineering...\n",
            "Kolom kategorikal: ['gender', 'SeniorCitizen', 'Partner', 'Dependents', 'tenure', 'PhoneService', 'MultipleLines', 'InternetService', 'OnlineSecurity', 'OnlineBackup', 'DeviceProtection', 'TechSupport', 'StreamingTV', 'StreamingMovies', 'Contract', 'PaperlessBilling', 'PaymentMethod', 'MonthlyCharges']\n",
            "Kolom numerik: ['TotalCharges']\n"
          ]
        }
      ]
    },
    {
      "cell_type": "code",
      "source": [
        "X_train_val, X_test, y_train_val, y_test = train_test_split(\n",
        "    X, y, test_size=0.2, random_state=42, stratify=y\n",
        ")\n",
        "\n",
        "X_train, X_val, y_train, y_val = train_test_split(\n",
        "    X_train_val, y_train_val, test_size=0.25, random_state=42, stratify=y_train_val\n",
        ")\n",
        "\n",
        "print(f\"Jumlah data training: {X_train.shape[0]} ({X_train.shape[0]/len(telco_data):.1%} dari total)\")\n",
        "print(f\"Jumlah data validasi: {X_val.shape[0]} ({X_val.shape[0]/len(telco_data):.1%} dari total)\")\n",
        "print(f\"Jumlah data testing: {X_test.shape[0]} ({X_test.shape[0]/len(telco_data):.1%} dari total)\")"
      ],
      "metadata": {
        "colab": {
          "base_uri": "https://localhost:8080/"
        },
        "id": "gYh9iDNWMOxF",
        "outputId": "6a519968-2d26-4d3f-c2ae-e4ee3b529b9a"
      },
      "execution_count": 18,
      "outputs": [
        {
          "output_type": "stream",
          "name": "stdout",
          "text": [
            "\n",
            "4. Membagi data menjadi train, validation, dan test...\n",
            "Jumlah data training: 4225 (60.0% dari total)\n",
            "Jumlah data validasi: 1409 (20.0% dari total)\n",
            "Jumlah data testing: 1409 (20.0% dari total)\n"
          ]
        }
      ]
    },
    {
      "cell_type": "code",
      "source": [
        "numeric_transformer = StandardScaler()\n",
        "\n",
        "categorical_transformer = OneHotEncoder(handle_unknown='ignore')\n",
        "\n",
        "preprocessor = ColumnTransformer(\n",
        "    transformers=[\n",
        "        ('num', numeric_transformer, numerical_cols),\n",
        "        ('cat', categorical_transformer, categorical_cols)\n",
        "    ])"
      ],
      "metadata": {
        "colab": {
          "base_uri": "https://localhost:8080/"
        },
        "id": "w8xMQ66TMRyG",
        "outputId": "815a06d6-27d3-490a-ef59-b1198205c3e8"
      },
      "execution_count": 19,
      "outputs": [
        {
          "output_type": "stream",
          "name": "stdout",
          "text": [
            "\n",
            "5. Membuat preprocessing pipeline...\n"
          ]
        }
      ]
    },
    {
      "cell_type": "code",
      "source": [
        "\n",
        "xgb_model = xgb.XGBClassifier(\n",
        "    objective='binary:logistic',\n",
        "    n_estimators=100,\n",
        "    max_depth=4,\n",
        "    learning_rate=0.1,\n",
        "    subsample=0.8,\n",
        "    colsample_bytree=0.8,\n",
        "    random_state=42\n",
        ")\n",
        "\n",
        "pipeline = Pipeline(steps=[\n",
        "    ('preprocessor', preprocessor),\n",
        "    ('classifier', xgb_model)\n",
        "])\n",
        "\n",
        "pipeline.fit(X_train, y_train)\n",
        "\n",
        "y_pred_val = pipeline.predict(X_val)\n",
        "y_pred_prob_val = pipeline.predict_proba(X_val)[:, 1]\n",
        "\n",
        "print(\"\\nEvaluasi model dasar pada data validasi:\")\n",
        "print(f\"Accuracy: {accuracy_score(y_val, y_pred_val):.4f}\")\n",
        "print(f\"Precision: {precision_score(y_val, y_pred_val):.4f}\")\n",
        "print(f\"Recall: {recall_score(y_val, y_pred_val):.4f}\")\n",
        "print(f\"F1-score: {f1_score(y_val, y_pred_val):.4f}\")\n",
        "print(f\"ROC AUC: {roc_auc_score(y_val, y_pred_prob_val):.4f}\")\n",
        "\n",
        "cm = confusion_matrix(y_val, y_pred_val)\n",
        "plt.figure(figsize=(8, 6))\n",
        "sns.heatmap(cm, annot=True, fmt='d', cmap='Blues')\n",
        "plt.title('Confusion Matrix - Model Dasar (Validasi)')\n",
        "plt.ylabel('Actual')\n",
        "plt.xlabel('Predicted')\n",
        "plt.savefig('visualizations/base_model_confusion_matrix.png')\n",
        "plt.close()\n",
        "\n",
        "fpr, tpr, _ = roc_curve(y_val, y_pred_prob_val)\n",
        "roc_auc = auc(fpr, tpr)\n",
        "\n",
        "plt.figure(figsize=(8, 6))\n",
        "plt.plot(fpr, tpr, color='blue', lw=2, label=f'ROC curve (AUC = {roc_auc:.4f})')\n",
        "plt.plot([0, 1], [0, 1], color='gray', lw=2, linestyle='--')\n",
        "plt.xlim([0.0, 1.0])\n",
        "plt.ylim([0.0, 1.05])\n",
        "plt.xlabel('False Positive Rate')\n",
        "plt.ylabel('True Positive Rate')\n",
        "plt.title('ROC Curve - Model Dasar (Validasi)')\n",
        "plt.legend(loc=\"lower right\")\n",
        "plt.savefig('visualizations/base_model_roc_curve.png')\n",
        "plt.close()"
      ],
      "metadata": {
        "colab": {
          "base_uri": "https://localhost:8080/"
        },
        "id": "m_-73FtUMT_A",
        "outputId": "861c8f94-161e-432e-b005-227280c17f75"
      },
      "execution_count": 20,
      "outputs": [
        {
          "output_type": "stream",
          "name": "stdout",
          "text": [
            "\n",
            "6. Melatih model dasar XGBoost...\n",
            "\n",
            "Evaluasi model dasar pada data validasi:\n",
            "Accuracy: 0.7970\n",
            "Precision: 0.6507\n",
            "Recall: 0.5080\n",
            "F1-score: 0.5706\n",
            "ROC AUC: 0.8353\n"
          ]
        }
      ]
    },
    {
      "cell_type": "code",
      "source": [
        "param_grid = {\n",
        "    'classifier__n_estimators': [50, 100, 200],\n",
        "    'classifier__max_depth': [3, 4, 5, 6],\n",
        "    'classifier__learning_rate': [0.01, 0.05, 0.1, 0.2],\n",
        "    'classifier__subsample': [0.8, 0.9, 1.0],\n",
        "    'classifier__colsample_bytree': [0.8, 0.9, 1.0],\n",
        "    'classifier__gamma': [0, 0.1, 0.2],\n",
        "    'classifier__min_child_weight': [1, 3, 5]\n",
        "}\n",
        "\n",
        "cv = StratifiedKFold(n_splits=3, shuffle=True, random_state=42)\n",
        "grid_search = GridSearchCV(\n",
        "    pipeline,\n",
        "    param_grid=param_grid,\n",
        "    cv=cv,\n",
        "    scoring='roc_auc',\n",
        "    n_jobs=-1,\n",
        "    verbose=1\n",
        ")\n",
        "\n",
        "grid_search.fit(X_train_val, y_train_val)\n",
        "\n",
        "print(\"\\nParameter optimal:\")\n",
        "print(grid_search.best_params_)\n",
        "print(f\"\\nBest score: {grid_search.best_score_:.4f}\")"
      ],
      "metadata": {
        "colab": {
          "base_uri": "https://localhost:8080/"
        },
        "id": "YCaWV94aMXX9",
        "outputId": "c2146d9d-81a3-4709-df8c-3af1cf7e74d9"
      },
      "execution_count": 21,
      "outputs": [
        {
          "output_type": "stream",
          "name": "stdout",
          "text": [
            "\n",
            "7. Melakukan hyperparameter tuning...\n",
            "Fitting 3 folds for each of 3888 candidates, totalling 11664 fits\n",
            "\n",
            "Parameter optimal:\n",
            "{'classifier__colsample_bytree': 0.9, 'classifier__gamma': 0, 'classifier__learning_rate': 0.05, 'classifier__max_depth': 3, 'classifier__min_child_weight': 3, 'classifier__n_estimators': 100, 'classifier__subsample': 0.8}\n",
            "\n",
            "Best score: 0.8493\n"
          ]
        }
      ]
    },
    {
      "cell_type": "code",
      "source": [
        "\n",
        "\n",
        "best_model = grid_search.best_estimator_\n",
        "\n",
        "best_model.fit(X_train_val, y_train_val)\n",
        "\n",
        "y_pred_test = best_model.predict(X_test)\n",
        "y_pred_prob_test = best_model.predict_proba(X_test)[:, 1]\n",
        "\n",
        "print(\"\\nEvaluasi model final pada data test:\")\n",
        "print(f\"Accuracy: {accuracy_score(y_test, y_pred_test):.4f}\")\n",
        "print(f\"Precision: {precision_score(y_test, y_pred_test):.4f}\")\n",
        "print(f\"Recall: {recall_score(y_test, y_pred_test):.4f}\")\n",
        "print(f\"F1-score: {f1_score(y_test, y_pred_test):.4f}\")\n",
        "print(f\"ROC AUC: {roc_auc_score(y_test, y_pred_prob_test):.4f}\")\n",
        "\n",
        "print(\"\\nClassification report:\")\n",
        "print(classification_report(y_test, y_pred_test))\n",
        "\n",
        "cm = confusion_matrix(y_test, y_pred_test)\n",
        "plt.figure(figsize=(8, 6))\n",
        "sns.heatmap(cm, annot=True, fmt='d', cmap='Blues')\n",
        "plt.title('Confusion Matrix - Model Final (Test)')\n",
        "plt.ylabel('Actual')\n",
        "plt.xlabel('Predicted')\n",
        "plt.savefig('visualizations/final_model_confusion_matrix.png')\n",
        "plt.close()\n",
        "\n",
        "fpr, tpr, _ = roc_curve(y_test, y_pred_prob_test)\n",
        "roc_auc = auc(fpr, tpr)\n",
        "\n",
        "plt.figure(figsize=(8, 6))\n",
        "plt.plot(fpr, tpr, color='blue', lw=2, label=f'ROC curve (AUC = {roc_auc:.4f})')\n",
        "plt.plot([0, 1], [0, 1], color='gray', lw=2, linestyle='--')\n",
        "plt.xlim([0.0, 1.0])\n",
        "plt.ylim([0.0, 1.05])\n",
        "plt.xlabel('False Positive Rate')\n",
        "plt.ylabel('True Positive Rate')\n",
        "plt.title('ROC Curve - Model Final (Test)')\n",
        "plt.legend(loc=\"lower right\")\n",
        "plt.savefig('visualizations/final_model_roc_curve.png')\n",
        "plt.close()"
      ],
      "metadata": {
        "colab": {
          "base_uri": "https://localhost:8080/"
        },
        "id": "8M_7C_jtMcYg",
        "outputId": "a2116efc-c6c5-4144-b0fa-3393d6fcc50f"
      },
      "execution_count": 22,
      "outputs": [
        {
          "output_type": "stream",
          "name": "stdout",
          "text": [
            "\n",
            "Evaluasi model final pada data test:\n",
            "Accuracy: 0.8020\n",
            "Precision: 0.6678\n",
            "Recall: 0.5053\n",
            "F1-score: 0.5753\n",
            "ROC AUC: 0.8463\n",
            "\n",
            "Classification report:\n",
            "              precision    recall  f1-score   support\n",
            "\n",
            "           0       0.84      0.91      0.87      1035\n",
            "           1       0.67      0.51      0.58       374\n",
            "\n",
            "    accuracy                           0.80      1409\n",
            "   macro avg       0.75      0.71      0.72      1409\n",
            "weighted avg       0.79      0.80      0.79      1409\n",
            "\n"
          ]
        }
      ]
    },
    {
      "cell_type": "code",
      "source": [
        "xgb_model = best_model.named_steps['classifier']\n",
        "\n",
        "preprocessor = best_model.named_steps['preprocessor']\n",
        "cat_features = preprocessor.transformers_[1][1].get_feature_names_out(categorical_cols)\n",
        "feature_names = numerical_cols + list(cat_features)\n",
        "\n",
        "importance = xgb_model.feature_importances_\n",
        "indices = np.argsort(importance)[::-1]\n",
        "\n",
        "plt.figure(figsize=(12, 8))\n",
        "plt.title('Feature Importance')\n",
        "plt.bar(range(len(importance)), importance[indices])\n",
        "plt.xticks(range(min(20, len(importance))), [feature_names[i] for i in indices[:20]], rotation=90)\n",
        "plt.tight_layout()\n",
        "plt.savefig('visualizations/feature_importance.png')\n",
        "plt.close()\n",
        "\n",
        "feature_importance_df = pd.DataFrame({\n",
        "    'Feature': feature_names,\n",
        "    'Importance': importance\n",
        "}).sort_values(by='Importance', ascending=False)\n",
        "\n",
        "print(\"\\nTop 10 fitur paling penting:\")\n",
        "print(feature_importance_df.head(10))\n",
        "\n",
        "feature_importance_df.to_csv('visualizations/feature_importance.csv', index=False)\n",
        "\n",
        "joblib.dump(best_model, 'models/telco_churn_xgboost.pkl')\n",
        "print(\"Model disimpan sebagai: models/telco_churn_xgboost.pkl\")\n",
        "\n",
        "print(\"\\nPelatihan model selesai!\")\n",
        "print(\"Visualisasi disimpan di folder 'visualizations'\")"
      ],
      "metadata": {
        "colab": {
          "base_uri": "https://localhost:8080/"
        },
        "id": "T1Gntl3KMfMJ",
        "outputId": "4f8a0ff0-7af7-4bfe-ab18-9333ee4a8a05"
      },
      "execution_count": 23,
      "outputs": [
        {
          "output_type": "stream",
          "name": "stdout",
          "text": [
            "\n",
            "Top 10 fitur paling penting:\n",
            "                            Feature  Importance\n",
            "108         Contract_Month-to-month    0.338209\n",
            "90                OnlineSecurity_No    0.063728\n",
            "99                   TechSupport_No    0.053123\n",
            "88      InternetService_Fiber optic    0.047890\n",
            "115  PaymentMethod_Electronic check    0.026109\n",
            "10                         tenure_1    0.024283\n",
            "0                      TotalCharges    0.023844\n",
            "111             PaperlessBilling_No    0.021087\n",
            "107             StreamingMovies_Yes    0.020215\n",
            "110               Contract_Two year    0.017823\n",
            "Model disimpan sebagai: models/telco_churn_xgboost.pkl\n",
            "\n",
            "Pelatihan model selesai!\n",
            "Visualisasi disimpan di folder 'visualizations'\n"
          ]
        }
      ]
    }
  ]
}