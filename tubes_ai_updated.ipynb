{
  "nbformat": 4,
  "nbformat_minor": 0,
  "metadata": {
    "colab": {
      "provenance": [],
      "gpuType": "T4",
      "authorship_tag": "ABX9TyNYdfJLzOrrst39mh+tHYFz",
      "include_colab_link": true
    },
    "kernelspec": {
      "name": "python3",
      "display_name": "Python 3"
    },
    "language_info": {
      "name": "python"
    },
    "accelerator": "GPU"
  },
  "cells": [
    {
      "cell_type": "markdown",
      "metadata": {
        "id": "view-in-github",
        "colab_type": "text"
      },
      "source": [
        "<a href=\"https://colab.research.google.com/github/flakesss/TUBES_AI/blob/hatta/tubes_ai_updated.ipynb\" target=\"_parent\"><img src=\"https://colab.research.google.com/assets/colab-badge.svg\" alt=\"Open In Colab\"/></a>"
      ]
    },
    {
      "cell_type": "code",
      "execution_count": null,
      "metadata": {
        "id": "juZZcy0LLlZN"
      },
      "outputs": [],
      "source": [
        "import pandas as pd\n",
        "import numpy as np\n",
        "import matplotlib.pyplot as plt\n",
        "import seaborn as sns\n",
        "from sklearn.model_selection import train_test_split, StratifiedKFold, RandomizedSearchCV\n",
        "from sklearn.preprocessing import StandardScaler, OneHotEncoder\n",
        "from sklearn.compose import ColumnTransformer\n",
        "from sklearn.pipeline import Pipeline\n",
        "from sklearn.metrics import (accuracy_score, precision_score, recall_score, f1_score, roc_auc_score,\n",
        "                             confusion_matrix, classification_report, roc_curve, auc)\n",
        "import xgboost as xgb\n",
        "import joblib\n",
        "import os\n",
        "import warnings\n",
        "warnings.filterwarnings('ignore')\n",
        "\n",
        "os.makedirs('models', exist_ok=True)\n",
        "os.makedirs('visualizations', exist_ok=True)\n"
      ]
    },
    {
      "cell_type": "code",
      "source": [
        "data_path = '/content/Telco Customer Churn.xlsx'\n",
        "\n",
        "try:\n",
        "    telco_data = pd.read_excel(data_path)\n",
        "    print(f\"Data berhasil dimuat dari {data_path}\")\n",
        "except Exception as e:\n",
        "    print(f\"Error saat memuat file Excel: {e}\")\n",
        "    try:\n",
        "        csv_path = 'Telco Customer Churn.csv'\n",
        "        telco_data = pd.read_csv(csv_path)\n",
        "        print(f\"Data berhasil dimuat dari {csv_path}\")\n",
        "    except Exception as e2:\n",
        "        print(f\"Error saat memuat file CSV: {e2}\")\n",
        "        raise Exception(\"Tidak dapat memuat data. Pastikan file data tersedia.\")\n",
        "\n",
        "print(\"\\nInformasi data:\")\n",
        "print(f\"Jumlah baris: {telco_data.shape[0]}\")\n",
        "print(f\"Jumlah kolom: {telco_data.shape[1]}\")\n",
        "print(\"\\nLima baris pertama:\")\n",
        "print(telco_data.head())\n"
      ],
      "metadata": {
        "colab": {
          "base_uri": "https://localhost:8080/",
          "height": 530
        },
        "id": "KQfYLUvoLsNa",
        "outputId": "921ca5f7-2c20-41d3-d740-b5e05630767a"
      },
      "execution_count": null,
      "outputs": [
        {
          "output_type": "stream",
          "name": "stdout",
          "text": [
            "Error saat memuat file Excel: [Errno 2] No such file or directory: '/content/Telco Customer Churn.xlsx'\n",
            "Error saat memuat file CSV: [Errno 2] No such file or directory: 'Telco Customer Churn.csv'\n"
          ]
        },
        {
          "output_type": "error",
          "ename": "Exception",
          "evalue": "Tidak dapat memuat data. Pastikan file data tersedia.",
          "traceback": [
            "\u001b[0;31m---------------------------------------------------------------------------\u001b[0m",
            "\u001b[0;31mFileNotFoundError\u001b[0m                         Traceback (most recent call last)",
            "\u001b[0;32m<ipython-input-3-5f63bf4a4292>\u001b[0m in \u001b[0;36m<cell line: 0>\u001b[0;34m()\u001b[0m\n\u001b[1;32m      5\u001b[0m \u001b[0;32mtry\u001b[0m\u001b[0;34m:\u001b[0m\u001b[0;34m\u001b[0m\u001b[0;34m\u001b[0m\u001b[0m\n\u001b[0;32m----> 6\u001b[0;31m     \u001b[0mtelco_data\u001b[0m \u001b[0;34m=\u001b[0m \u001b[0mpd\u001b[0m\u001b[0;34m.\u001b[0m\u001b[0mread_excel\u001b[0m\u001b[0;34m(\u001b[0m\u001b[0mdata_path\u001b[0m\u001b[0;34m)\u001b[0m\u001b[0;34m\u001b[0m\u001b[0;34m\u001b[0m\u001b[0m\n\u001b[0m\u001b[1;32m      7\u001b[0m     \u001b[0mprint\u001b[0m\u001b[0;34m(\u001b[0m\u001b[0;34mf\"Data berhasil dimuat dari {data_path}\"\u001b[0m\u001b[0;34m)\u001b[0m\u001b[0;34m\u001b[0m\u001b[0;34m\u001b[0m\u001b[0m\n",
            "\u001b[0;32m/usr/local/lib/python3.11/dist-packages/pandas/io/excel/_base.py\u001b[0m in \u001b[0;36mread_excel\u001b[0;34m(io, sheet_name, header, names, index_col, usecols, dtype, engine, converters, true_values, false_values, skiprows, nrows, na_values, keep_default_na, na_filter, verbose, parse_dates, date_parser, date_format, thousands, decimal, comment, skipfooter, storage_options, dtype_backend, engine_kwargs)\u001b[0m\n\u001b[1;32m    494\u001b[0m         \u001b[0mshould_close\u001b[0m \u001b[0;34m=\u001b[0m \u001b[0;32mTrue\u001b[0m\u001b[0;34m\u001b[0m\u001b[0;34m\u001b[0m\u001b[0m\n\u001b[0;32m--> 495\u001b[0;31m         io = ExcelFile(\n\u001b[0m\u001b[1;32m    496\u001b[0m             \u001b[0mio\u001b[0m\u001b[0;34m,\u001b[0m\u001b[0;34m\u001b[0m\u001b[0;34m\u001b[0m\u001b[0m\n",
            "\u001b[0;32m/usr/local/lib/python3.11/dist-packages/pandas/io/excel/_base.py\u001b[0m in \u001b[0;36m__init__\u001b[0;34m(self, path_or_buffer, engine, storage_options, engine_kwargs)\u001b[0m\n\u001b[1;32m   1549\u001b[0m             \u001b[0;32melse\u001b[0m\u001b[0;34m:\u001b[0m\u001b[0;34m\u001b[0m\u001b[0;34m\u001b[0m\u001b[0m\n\u001b[0;32m-> 1550\u001b[0;31m                 ext = inspect_excel_format(\n\u001b[0m\u001b[1;32m   1551\u001b[0m                     \u001b[0mcontent_or_path\u001b[0m\u001b[0;34m=\u001b[0m\u001b[0mpath_or_buffer\u001b[0m\u001b[0;34m,\u001b[0m \u001b[0mstorage_options\u001b[0m\u001b[0;34m=\u001b[0m\u001b[0mstorage_options\u001b[0m\u001b[0;34m\u001b[0m\u001b[0;34m\u001b[0m\u001b[0m\n",
            "\u001b[0;32m/usr/local/lib/python3.11/dist-packages/pandas/io/excel/_base.py\u001b[0m in \u001b[0;36minspect_excel_format\u001b[0;34m(content_or_path, storage_options)\u001b[0m\n\u001b[1;32m   1401\u001b[0m \u001b[0;34m\u001b[0m\u001b[0m\n\u001b[0;32m-> 1402\u001b[0;31m     with get_handle(\n\u001b[0m\u001b[1;32m   1403\u001b[0m         \u001b[0mcontent_or_path\u001b[0m\u001b[0;34m,\u001b[0m \u001b[0;34m\"rb\"\u001b[0m\u001b[0;34m,\u001b[0m \u001b[0mstorage_options\u001b[0m\u001b[0;34m=\u001b[0m\u001b[0mstorage_options\u001b[0m\u001b[0;34m,\u001b[0m \u001b[0mis_text\u001b[0m\u001b[0;34m=\u001b[0m\u001b[0;32mFalse\u001b[0m\u001b[0;34m\u001b[0m\u001b[0;34m\u001b[0m\u001b[0m\n",
            "\u001b[0;32m/usr/local/lib/python3.11/dist-packages/pandas/io/common.py\u001b[0m in \u001b[0;36mget_handle\u001b[0;34m(path_or_buf, mode, encoding, compression, memory_map, is_text, errors, storage_options)\u001b[0m\n\u001b[1;32m    881\u001b[0m             \u001b[0;31m# Binary mode\u001b[0m\u001b[0;34m\u001b[0m\u001b[0;34m\u001b[0m\u001b[0m\n\u001b[0;32m--> 882\u001b[0;31m             \u001b[0mhandle\u001b[0m \u001b[0;34m=\u001b[0m \u001b[0mopen\u001b[0m\u001b[0;34m(\u001b[0m\u001b[0mhandle\u001b[0m\u001b[0;34m,\u001b[0m \u001b[0mioargs\u001b[0m\u001b[0;34m.\u001b[0m\u001b[0mmode\u001b[0m\u001b[0;34m)\u001b[0m\u001b[0;34m\u001b[0m\u001b[0;34m\u001b[0m\u001b[0m\n\u001b[0m\u001b[1;32m    883\u001b[0m         \u001b[0mhandles\u001b[0m\u001b[0;34m.\u001b[0m\u001b[0mappend\u001b[0m\u001b[0;34m(\u001b[0m\u001b[0mhandle\u001b[0m\u001b[0;34m)\u001b[0m\u001b[0;34m\u001b[0m\u001b[0;34m\u001b[0m\u001b[0m\n",
            "\u001b[0;31mFileNotFoundError\u001b[0m: [Errno 2] No such file or directory: '/content/Telco Customer Churn.xlsx'",
            "\nDuring handling of the above exception, another exception occurred:\n",
            "\u001b[0;31mFileNotFoundError\u001b[0m                         Traceback (most recent call last)",
            "\u001b[0;32m<ipython-input-3-5f63bf4a4292>\u001b[0m in \u001b[0;36m<cell line: 0>\u001b[0;34m()\u001b[0m\n\u001b[1;32m     11\u001b[0m         \u001b[0mcsv_path\u001b[0m \u001b[0;34m=\u001b[0m \u001b[0;34m'Telco Customer Churn.csv'\u001b[0m\u001b[0;34m\u001b[0m\u001b[0;34m\u001b[0m\u001b[0m\n\u001b[0;32m---> 12\u001b[0;31m         \u001b[0mtelco_data\u001b[0m \u001b[0;34m=\u001b[0m \u001b[0mpd\u001b[0m\u001b[0;34m.\u001b[0m\u001b[0mread_csv\u001b[0m\u001b[0;34m(\u001b[0m\u001b[0mcsv_path\u001b[0m\u001b[0;34m)\u001b[0m\u001b[0;34m\u001b[0m\u001b[0;34m\u001b[0m\u001b[0m\n\u001b[0m\u001b[1;32m     13\u001b[0m         \u001b[0mprint\u001b[0m\u001b[0;34m(\u001b[0m\u001b[0;34mf\"Data berhasil dimuat dari {csv_path}\"\u001b[0m\u001b[0;34m)\u001b[0m\u001b[0;34m\u001b[0m\u001b[0;34m\u001b[0m\u001b[0m\n",
            "\u001b[0;32m/usr/local/lib/python3.11/dist-packages/pandas/io/parsers/readers.py\u001b[0m in \u001b[0;36mread_csv\u001b[0;34m(filepath_or_buffer, sep, delimiter, header, names, index_col, usecols, dtype, engine, converters, true_values, false_values, skipinitialspace, skiprows, skipfooter, nrows, na_values, keep_default_na, na_filter, verbose, skip_blank_lines, parse_dates, infer_datetime_format, keep_date_col, date_parser, date_format, dayfirst, cache_dates, iterator, chunksize, compression, thousands, decimal, lineterminator, quotechar, quoting, doublequote, escapechar, comment, encoding, encoding_errors, dialect, on_bad_lines, delim_whitespace, low_memory, memory_map, float_precision, storage_options, dtype_backend)\u001b[0m\n\u001b[1;32m   1025\u001b[0m \u001b[0;34m\u001b[0m\u001b[0m\n\u001b[0;32m-> 1026\u001b[0;31m     \u001b[0;32mreturn\u001b[0m \u001b[0m_read\u001b[0m\u001b[0;34m(\u001b[0m\u001b[0mfilepath_or_buffer\u001b[0m\u001b[0;34m,\u001b[0m \u001b[0mkwds\u001b[0m\u001b[0;34m)\u001b[0m\u001b[0;34m\u001b[0m\u001b[0;34m\u001b[0m\u001b[0m\n\u001b[0m\u001b[1;32m   1027\u001b[0m \u001b[0;34m\u001b[0m\u001b[0m\n",
            "\u001b[0;32m/usr/local/lib/python3.11/dist-packages/pandas/io/parsers/readers.py\u001b[0m in \u001b[0;36m_read\u001b[0;34m(filepath_or_buffer, kwds)\u001b[0m\n\u001b[1;32m    619\u001b[0m     \u001b[0;31m# Create the parser.\u001b[0m\u001b[0;34m\u001b[0m\u001b[0;34m\u001b[0m\u001b[0m\n\u001b[0;32m--> 620\u001b[0;31m     \u001b[0mparser\u001b[0m \u001b[0;34m=\u001b[0m \u001b[0mTextFileReader\u001b[0m\u001b[0;34m(\u001b[0m\u001b[0mfilepath_or_buffer\u001b[0m\u001b[0;34m,\u001b[0m \u001b[0;34m**\u001b[0m\u001b[0mkwds\u001b[0m\u001b[0;34m)\u001b[0m\u001b[0;34m\u001b[0m\u001b[0;34m\u001b[0m\u001b[0m\n\u001b[0m\u001b[1;32m    621\u001b[0m \u001b[0;34m\u001b[0m\u001b[0m\n",
            "\u001b[0;32m/usr/local/lib/python3.11/dist-packages/pandas/io/parsers/readers.py\u001b[0m in \u001b[0;36m__init__\u001b[0;34m(self, f, engine, **kwds)\u001b[0m\n\u001b[1;32m   1619\u001b[0m         \u001b[0mself\u001b[0m\u001b[0;34m.\u001b[0m\u001b[0mhandles\u001b[0m\u001b[0;34m:\u001b[0m \u001b[0mIOHandles\u001b[0m \u001b[0;34m|\u001b[0m \u001b[0;32mNone\u001b[0m \u001b[0;34m=\u001b[0m \u001b[0;32mNone\u001b[0m\u001b[0;34m\u001b[0m\u001b[0;34m\u001b[0m\u001b[0m\n\u001b[0;32m-> 1620\u001b[0;31m         \u001b[0mself\u001b[0m\u001b[0;34m.\u001b[0m\u001b[0m_engine\u001b[0m \u001b[0;34m=\u001b[0m \u001b[0mself\u001b[0m\u001b[0;34m.\u001b[0m\u001b[0m_make_engine\u001b[0m\u001b[0;34m(\u001b[0m\u001b[0mf\u001b[0m\u001b[0;34m,\u001b[0m \u001b[0mself\u001b[0m\u001b[0;34m.\u001b[0m\u001b[0mengine\u001b[0m\u001b[0;34m)\u001b[0m\u001b[0;34m\u001b[0m\u001b[0;34m\u001b[0m\u001b[0m\n\u001b[0m\u001b[1;32m   1621\u001b[0m \u001b[0;34m\u001b[0m\u001b[0m\n",
            "\u001b[0;32m/usr/local/lib/python3.11/dist-packages/pandas/io/parsers/readers.py\u001b[0m in \u001b[0;36m_make_engine\u001b[0;34m(self, f, engine)\u001b[0m\n\u001b[1;32m   1879\u001b[0m                     \u001b[0mmode\u001b[0m \u001b[0;34m+=\u001b[0m \u001b[0;34m\"b\"\u001b[0m\u001b[0;34m\u001b[0m\u001b[0;34m\u001b[0m\u001b[0m\n\u001b[0;32m-> 1880\u001b[0;31m             self.handles = get_handle(\n\u001b[0m\u001b[1;32m   1881\u001b[0m                 \u001b[0mf\u001b[0m\u001b[0;34m,\u001b[0m\u001b[0;34m\u001b[0m\u001b[0;34m\u001b[0m\u001b[0m\n",
            "\u001b[0;32m/usr/local/lib/python3.11/dist-packages/pandas/io/common.py\u001b[0m in \u001b[0;36mget_handle\u001b[0;34m(path_or_buf, mode, encoding, compression, memory_map, is_text, errors, storage_options)\u001b[0m\n\u001b[1;32m    872\u001b[0m             \u001b[0;31m# Encoding\u001b[0m\u001b[0;34m\u001b[0m\u001b[0;34m\u001b[0m\u001b[0m\n\u001b[0;32m--> 873\u001b[0;31m             handle = open(\n\u001b[0m\u001b[1;32m    874\u001b[0m                 \u001b[0mhandle\u001b[0m\u001b[0;34m,\u001b[0m\u001b[0;34m\u001b[0m\u001b[0;34m\u001b[0m\u001b[0m\n",
            "\u001b[0;31mFileNotFoundError\u001b[0m: [Errno 2] No such file or directory: 'Telco Customer Churn.csv'",
            "\nDuring handling of the above exception, another exception occurred:\n",
            "\u001b[0;31mException\u001b[0m                                 Traceback (most recent call last)",
            "\u001b[0;32m<ipython-input-3-5f63bf4a4292>\u001b[0m in \u001b[0;36m<cell line: 0>\u001b[0;34m()\u001b[0m\n\u001b[1;32m     14\u001b[0m     \u001b[0;32mexcept\u001b[0m \u001b[0mException\u001b[0m \u001b[0;32mas\u001b[0m \u001b[0me2\u001b[0m\u001b[0;34m:\u001b[0m\u001b[0;34m\u001b[0m\u001b[0;34m\u001b[0m\u001b[0m\n\u001b[1;32m     15\u001b[0m         \u001b[0mprint\u001b[0m\u001b[0;34m(\u001b[0m\u001b[0;34mf\"Error saat memuat file CSV: {e2}\"\u001b[0m\u001b[0;34m)\u001b[0m\u001b[0;34m\u001b[0m\u001b[0;34m\u001b[0m\u001b[0m\n\u001b[0;32m---> 16\u001b[0;31m         \u001b[0;32mraise\u001b[0m \u001b[0mException\u001b[0m\u001b[0;34m(\u001b[0m\u001b[0;34m\"Tidak dapat memuat data. Pastikan file data tersedia.\"\u001b[0m\u001b[0;34m)\u001b[0m\u001b[0;34m\u001b[0m\u001b[0;34m\u001b[0m\u001b[0m\n\u001b[0m\u001b[1;32m     17\u001b[0m \u001b[0;34m\u001b[0m\u001b[0m\n\u001b[1;32m     18\u001b[0m \u001b[0;31m# Tampilkan informasi dasar\u001b[0m\u001b[0;34m\u001b[0m\u001b[0;34m\u001b[0m\u001b[0m\n",
            "\u001b[0;31mException\u001b[0m: Tidak dapat memuat data. Pastikan file data tersedia."
          ]
        }
      ]
    },
    {
      "cell_type": "code",
      "source": [
        "if telco_data.shape[1] == 1 and ',' in str(telco_data.iloc[0, 0]):\n",
        "    print(\"\\nDeteksi masalah format: Data ada dalam satu kolom. Parsing data...\")\n",
        "    header = telco_data.columns[0].split(',')\n",
        "    parsed_rows = []\n",
        "    for i in range(len(telco_data)):\n",
        "        values = telco_data.iloc[i, 0].split(',')\n",
        "        if len(values) == len(header):\n",
        "            parsed_rows.append(values)\n",
        "    telco_data = pd.DataFrame(parsed_rows, columns=header)\n",
        "    print(\"Data berhasil di-parse.\")\n"
      ],
      "metadata": {
        "colab": {
          "base_uri": "https://localhost:8080/"
        },
        "id": "wjj_YQRWLvGx",
        "outputId": "81328a85-eb2c-47dd-f6cd-13e16aedfe07"
      },
      "execution_count": null,
      "outputs": [
        {
          "output_type": "stream",
          "name": "stdout",
          "text": [
            "\n",
            "Deteksi masalah format: Data ada dalam satu kolom. Parsing data...\n",
            "Data berhasil di-parse.\n"
          ]
        }
      ]
    },
    {
      "cell_type": "code",
      "source": [
        "print(\"\\n2. Preprocessing data...\")\n",
        "\n",
        "columns_to_drop = ['customerID']\n",
        "telco_data = telco_data.drop(columns=columns_to_drop, errors='ignore')\n",
        "\n",
        "if 'TotalCharges' in telco_data.columns:\n",
        "    telco_data['TotalCharges'] = pd.to_numeric(telco_data['TotalCharges'], errors='coerce')\n",
        "\n",
        "missing_data = telco_data.isnull().sum()\n",
        "print(\"\\nMissing values per kolom:\")\n",
        "print(missing_data[missing_data > 0])\n",
        "\n",
        "num_cols = telco_data.select_dtypes(include=np.number).columns\n",
        "telco_data[num_cols] = telco_data[num_cols].fillna(telco_data[num_cols].median())\n",
        "\n",
        "print(\"\\nDistribusi target 'Churn':\")\n",
        "if 'Churn' in telco_data.columns:\n",
        "    print(telco_data['Churn'].value_counts())\n",
        "    if telco_data['Churn'].dtype == 'object':\n",
        "        telco_data['Churn'] = telco_data['Churn'].map({'Yes': 1, 'No': 0})\n",
        "    print(\"Target 'Churn' dikonversi ke nilai biner 1/0\")\n"
      ],
      "metadata": {
        "colab": {
          "base_uri": "https://localhost:8080/"
        },
        "id": "McHONZmgLyvx",
        "outputId": "29cd561f-83c5-4ca4-f3eb-447c8fc2e50d"
      },
      "execution_count": null,
      "outputs": [
        {
          "output_type": "stream",
          "name": "stdout",
          "text": [
            "\n",
            "2. Preprocessing data...\n",
            "\n",
            "Missing values per kolom:\n",
            "TotalCharges    11\n",
            "dtype: int64\n",
            "\n",
            "Distribusi target 'Churn':\n",
            "Churn\n",
            "No     5174\n",
            "Yes    1869\n",
            "Name: count, dtype: int64\n",
            "Target 'Churn' dikonversi ke nilai biner 1/0\n"
          ]
        }
      ]
    },
    {
      "cell_type": "code",
      "source": [
        "print(\"\\n3. Feature selection dan engineering...\")\n",
        "\n",
        "categorical_cols = telco_data.select_dtypes(include=['object', 'category']).columns.tolist()\n",
        "numerical_cols = telco_data.select_dtypes(include=['int64', 'float64']).columns.tolist()\n",
        "if 'Churn' in numerical_cols:\n",
        "    numerical_cols.remove('Churn')\n",
        "\n",
        "print(f\"Kolom kategorikal: {categorical_cols}\")\n",
        "print(f\"Kolom numerik: {numerical_cols}\")\n",
        "\n",
        "X = telco_data.drop('Churn', axis=1)\n",
        "y = telco_data['Churn']\n"
      ],
      "metadata": {
        "colab": {
          "base_uri": "https://localhost:8080/"
        },
        "id": "zSkwQ0YmL35H",
        "outputId": "b99d3fcb-5c37-4a7e-ee39-877646cef7e5"
      },
      "execution_count": null,
      "outputs": [
        {
          "output_type": "stream",
          "name": "stdout",
          "text": [
            "\n",
            "3. Feature selection dan engineering...\n",
            "Kolom kategorikal: ['gender', 'SeniorCitizen', 'Partner', 'Dependents', 'tenure', 'PhoneService', 'MultipleLines', 'InternetService', 'OnlineSecurity', 'OnlineBackup', 'DeviceProtection', 'TechSupport', 'StreamingTV', 'StreamingMovies', 'Contract', 'PaperlessBilling', 'PaymentMethod', 'MonthlyCharges']\n",
            "Kolom numerik: ['TotalCharges']\n"
          ]
        }
      ]
    },
    {
      "cell_type": "code",
      "source": [
        "print(\"\\n4. Membagi data menjadi train, validation, dan test...\")\n",
        "\n",
        "X_train_val, X_test, y_train_val, y_test = train_test_split(\n",
        "    X, y, test_size=0.2, random_state=42, stratify=y\n",
        ")\n",
        "X_train, X_val, y_train, y_val = train_test_split(\n",
        "    X_train_val, y_train_val, test_size=0.25, random_state=42, stratify=y_train_val\n",
        ")\n",
        "\n",
        "print(f\"Jumlah data training: {X_train.shape[0]} ({X_train.shape[0]/len(telco_data):.1%} dari total)\")\n",
        "print(f\"Jumlah data validasi: {X_val.shape[0]} ({X_val.shape[0]/len(telco_data):.1%} dari total)\")\n",
        "print(f\"Jumlah data testing: {X_test.shape[0]} ({X_test.shape[0]/len(telco_data):.1%} dari total)\")\n"
      ],
      "metadata": {
        "colab": {
          "base_uri": "https://localhost:8080/"
        },
        "id": "h-5Q1S1qL5_1",
        "outputId": "b9639748-fdeb-45ed-e065-5557925b2462"
      },
      "execution_count": null,
      "outputs": [
        {
          "output_type": "stream",
          "name": "stdout",
          "text": [
            "\n",
            "4. Membagi data menjadi train, validation, dan test...\n",
            "Jumlah data training: 4225 (60.0% dari total)\n",
            "Jumlah data validasi: 1409 (20.0% dari total)\n",
            "Jumlah data testing: 1409 (20.0% dari total)\n"
          ]
        }
      ]
    },
    {
      "cell_type": "code",
      "source": [
        "print(\"\\n5. Membuat preprocessing pipeline...\")\n",
        "\n",
        "numeric_transformer = StandardScaler()\n",
        "categorical_transformer = OneHotEncoder(handle_unknown='ignore')\n",
        "\n",
        "preprocessor = ColumnTransformer(\n",
        "    transformers=[\n",
        "        ('num', numeric_transformer, numerical_cols),\n",
        "        ('cat', categorical_transformer, categorical_cols)\n",
        "    ])\n"
      ],
      "metadata": {
        "colab": {
          "base_uri": "https://localhost:8080/"
        },
        "id": "4evpYySVMECo",
        "outputId": "5652bb61-d9d3-4fc8-a821-8feb0d1d73e1"
      },
      "execution_count": null,
      "outputs": [
        {
          "output_type": "stream",
          "name": "stdout",
          "text": [
            "\n",
            "5. Membuat preprocessing pipeline...\n"
          ]
        }
      ]
    },
    {
      "source": [
        "print(\"\\n6. Melatih model XGBoost dengan parameter yang lebih baik...\")\n",
        "\n",
        "xgb_model = xgb.XGBClassifier(\n",
        "    objective='binary:logistic',\n",
        "    eval_metric='auc',\n",
        "    random_state=42,\n",
        "    n_estimators=500,\n",
        "    max_depth=4,\n",
        "    min_child_weight=3,\n",
        "    gamma=0.25,\n",
        "    subsample=0.8,\n",
        "    colsample_bytree=0.8,\n",
        "    scale_pos_weight=3\n",
        ")\n",
        "\n",
        "pipeline = Pipeline(steps=[\n",
        "    ('preprocessor', preprocessor),\n",
        "    ('classifier', xgb_model)\n",
        "])\n",
        "\n",
        "pipeline.fit(X_train, y_train)\n",
        "\n",
        "y_pred_val = pipeline.predict(X_val)\n",
        "y_pred_prob_val = pipeline.predict_proba(X_val)[:, 1]\n",
        "\n",
        "print(\"\\nEvaluasi model dasar pada data validasi:\")\n",
        "print(f\"Accuracy: {accuracy_score(y_val, y_pred_val):.4f}\")\n",
        "print(f\"Precision: {precision_score(y_val, y_pred_val):.4f}\")\n",
        "print(f\"Recall: {recall_score(y_val, y_pred_val):.4f}\")\n",
        "print(f\"F1-score: {f1_score(y_val, y_pred_val):.4f}\")\n",
        "print(f\"ROC AUC: {roc_auc_score(y_val, y_pred_prob_val):.4f}\")\n"
      ],
      "cell_type": "code",
      "metadata": {
        "colab": {
          "base_uri": "https://localhost:8080/"
        },
        "id": "EU02WsogNn8t",
        "outputId": "8b98578f-48ba-4c15-8137-a855d4be51fe"
      },
      "execution_count": null,
      "outputs": [
        {
          "output_type": "stream",
          "name": "stdout",
          "text": [
            "\n",
            "6. Melatih model XGBoost dengan parameter yang lebih baik...\n",
            "\n",
            "Evaluasi model dasar pada data validasi:\n",
            "Accuracy: 0.7339\n",
            "Precision: 0.4990\n",
            "Recall: 0.6604\n",
            "F1-score: 0.5685\n",
            "ROC AUC: 0.7940\n"
          ]
        }
      ]
    },
    {
      "cell_type": "code",
      "source": [
        "cm = confusion_matrix(y_val, y_pred_val)\n",
        "plt.figure(figsize=(8, 6))\n",
        "sns.heatmap(cm, annot=True, fmt='d', cmap='Blues')\n",
        "plt.title('Confusion Matrix - Model Dasar (Validasi)')\n",
        "plt.ylabel('Actual')\n",
        "plt.xlabel('Predicted')\n",
        "plt.savefig('visualizations/base_model_confusion_matrix.png')\n",
        "plt.close()\n",
        "\n",
        "fpr, tpr, _ = roc_curve(y_val, y_pred_prob_val)\n",
        "roc_auc = auc(fpr, tpr)\n",
        "\n",
        "plt.figure(figsize=(8, 6))\n",
        "plt.plot(fpr, tpr, color='blue', lw=2, label=f'ROC curve (AUC = {roc_auc:.4f})')\n",
        "plt.plot([0, 1], [0, 1], color='gray', lw=2, linestyle='--')\n",
        "plt.xlim([0.0, 1.0])\n",
        "plt.ylim([0.0, 1.05])\n",
        "plt.xlabel('False Positive Rate')\n",
        "plt.ylabel('True Positive Rate')\n",
        "plt.title('ROC Curve - Model Dasar (Validasi)')\n",
        "plt.legend(loc=\"lower right\")\n",
        "plt.savefig('visualizations/base_model_roc_curve.png')\n",
        "plt.close()\n"
      ],
      "metadata": {
        "id": "pJio6EgrMNzI"
      },
      "execution_count": null,
      "outputs": []
    },
    {
      "cell_type": "code",
      "source": [
        "print(\"\\n7. Melakukan hyperparameter tuning dengan RandomizedSearchCV...\")\n",
        "param_dist = {\n",
        "    'classifier__max_depth': [3, 4, 5, 6],\n",
        "    'classifier__min_child_weight': [1, 3, 5, 7],\n",
        "    'classifier__gamma': [0, 0.1, 0.2, 0.4],\n",
        "    'classifier__subsample': [0.6, 0.8, 1.0],\n",
        "    'classifier__colsample_bytree': [0.6, 0.8, 1.0],\n",
        "    'classifier__learning_rate': [0.01, 0.05, 0.1]\n",
        "}\n",
        "\n",
        "cv = StratifiedKFold(n_splits=3, shuffle=True, random_state=42)\n",
        "\n",
        "random_search = RandomizedSearchCV(\n",
        "    pipeline,\n",
        "    param_distributions=param_dist,\n",
        "    n_iter=50,\n",
        "    cv=cv,\n",
        "    scoring='roc_auc',\n",
        "    random_state=42,\n",
        "    n_jobs=-1,\n",
        "    verbose=1\n",
        ")\n",
        "\n",
        "random_search.fit(X_train_val, y_train_val)\n",
        "\n",
        "print(\"\\nParameter optimal:\")\n",
        "print(random_search.best_params_)\n",
        "print(f\"\\nBest score: {random_search.best_score_:.4f}\")\n",
        "\n"
      ],
      "metadata": {
        "colab": {
          "base_uri": "https://localhost:8080/"
        },
        "id": "gYh9iDNWMOxF",
        "outputId": "60ef7ca0-b02e-47e8-83e3-5d8e69d4308f"
      },
      "execution_count": null,
      "outputs": [
        {
          "output_type": "stream",
          "name": "stdout",
          "text": [
            "\n",
            "7. Melakukan hyperparameter tuning dengan RandomizedSearchCV...\n",
            "Fitting 3 folds for each of 50 candidates, totalling 150 fits\n",
            "\n",
            "Parameter optimal:\n",
            "{'classifier__subsample': 0.6, 'classifier__min_child_weight': 7, 'classifier__max_depth': 3, 'classifier__learning_rate': 0.01, 'classifier__gamma': 0.2, 'classifier__colsample_bytree': 0.6}\n",
            "\n",
            "Best score: 0.8495\n"
          ]
        }
      ]
    },
    {
      "cell_type": "code",
      "source": [
        "print(\"\\n8. Evaluasi model final pada data test...\")\n",
        "\n",
        "best_model = random_search.best_estimator_\n",
        "\n",
        "\n",
        "y_pred_test = best_model.predict(X_test)\n",
        "y_pred_prob_test = best_model.predict_proba(X_test)[:, 1]\n",
        "\n",
        "print(\"\\nEvaluasi model final pada data test:\")\n",
        "print(f\"Accuracy: {accuracy_score(y_test, y_pred_test):.4f}\")\n",
        "print(f\"Precision: {precision_score(y_test, y_pred_test):.4f}\")\n",
        "print(f\"Recall: {recall_score(y_test, y_pred_test):.4f}\")\n",
        "print(f\"F1-score: {f1_score(y_test, y_pred_test):.4f}\")\n",
        "print(f\"ROC AUC: {roc_auc_score(y_test, y_pred_prob_test):.4f}\")\n",
        "\n",
        "print(\"\\nClassification report:\")\n",
        "print(classification_report(y_test, y_pred_test, digits=4))\n",
        "\n",
        "cm = confusion_matrix(y_test, y_pred_test)\n",
        "plt.figure(figsize=(8, 6))\n",
        "sns.heatmap(cm, annot=True, fmt='d', cmap='Blues')\n",
        "plt.title('Confusion Matrix - Model Final (Test)')\n",
        "plt.ylabel('Actual')\n",
        "plt.xlabel('Predicted')\n",
        "plt.savefig('visualizations/final_model_confusion_matrix.png')\n",
        "plt.close()\n",
        "\n",
        "fpr, tpr, _ = roc_curve(y_test, y_pred_prob_test)\n",
        "roc_auc = auc(fpr, tpr)\n",
        "\n",
        "plt.figure(figsize=(8, 6))\n",
        "plt.plot(fpr, tpr, color='blue', lw=2, label=f'ROC curve (AUC = {roc_auc:.4f})')\n",
        "plt.plot([0, 1], [0, 1], color='gray', lw=2, linestyle='--')\n",
        "plt.xlim([0.0, 1.0])\n",
        "plt.ylim([0.0, 1.05])\n",
        "plt.xlabel('False Positive Rate')\n",
        "plt.ylabel('True Positive Rate')\n",
        "plt.title('ROC Curve - Model Final (Test)')\n",
        "plt.legend(loc=\"lower right\")\n",
        "plt.savefig('visualizations/final_model_roc_curve.png')\n",
        "plt.close()\n"
      ],
      "metadata": {
        "colab": {
          "base_uri": "https://localhost:8080/",
          "height": 245
        },
        "id": "P4dbSABPp3yI",
        "outputId": "8c937ce6-93e6-4be1-b639-23d1ddea3151"
      },
      "execution_count": null,
      "outputs": [
        {
          "output_type": "stream",
          "name": "stdout",
          "text": [
            "\n",
            "8. Evaluasi model final pada data test...\n"
          ]
        },
        {
          "output_type": "error",
          "ename": "NameError",
          "evalue": "name 'random_search' is not defined",
          "traceback": [
            "\u001b[0;31m---------------------------------------------------------------------------\u001b[0m",
            "\u001b[0;31mNameError\u001b[0m                                 Traceback (most recent call last)",
            "\u001b[0;32m<ipython-input-1-a5da115f2ff0>\u001b[0m in \u001b[0;36m<cell line: 0>\u001b[0;34m()\u001b[0m\n\u001b[1;32m      1\u001b[0m \u001b[0mprint\u001b[0m\u001b[0;34m(\u001b[0m\u001b[0;34m\"\\n8. Evaluasi model final pada data test...\"\u001b[0m\u001b[0;34m)\u001b[0m\u001b[0;34m\u001b[0m\u001b[0;34m\u001b[0m\u001b[0m\n\u001b[1;32m      2\u001b[0m \u001b[0;34m\u001b[0m\u001b[0m\n\u001b[0;32m----> 3\u001b[0;31m \u001b[0mbest_model\u001b[0m \u001b[0;34m=\u001b[0m \u001b[0mrandom_search\u001b[0m\u001b[0;34m.\u001b[0m\u001b[0mbest_estimator_\u001b[0m\u001b[0;34m\u001b[0m\u001b[0;34m\u001b[0m\u001b[0m\n\u001b[0m\u001b[1;32m      4\u001b[0m \u001b[0;31m# Jika diinginkan, bisa juga fit pada gabungan data train+val:\u001b[0m\u001b[0;34m\u001b[0m\u001b[0;34m\u001b[0m\u001b[0m\n\u001b[1;32m      5\u001b[0m \u001b[0;31m# best_model.fit(X_train_val, y_train_val)\u001b[0m\u001b[0;34m\u001b[0m\u001b[0;34m\u001b[0m\u001b[0m\n",
            "\u001b[0;31mNameError\u001b[0m: name 'random_search' is not defined"
          ]
        }
      ]
    },
    {
      "cell_type": "code",
      "source": [
        "print(\"\\n9. Analisis feature importance...\")\n",
        "\n",
        "xgb_model = best_model.named_steps['classifier']\n",
        "preprocessor = best_model.named_steps['preprocessor']\n",
        "cat_features = preprocessor.transformers_[1][1].get_feature_names_out(categorical_cols)\n",
        "feature_names = numerical_cols + list(cat_features)\n",
        "\n",
        "importance = xgb_model.feature_importances_\n",
        "indices = np.argsort(importance)[::-1]\n",
        "\n",
        "plt.figure(figsize=(12, 8))\n",
        "plt.title('Feature Importance')\n",
        "plt.bar(range(len(importance)), importance[indices])\n",
        "plt.xticks(range(min(20, len(importance))), [feature_names[i] for i in indices[:20]], rotation=90)\n",
        "plt.tight_layout()\n",
        "plt.savefig('visualizations/feature_importance.png')\n",
        "plt.close()\n",
        "\n",
        "feature_importance_df = pd.DataFrame({\n",
        "    'Feature': feature_names,\n",
        "    'Importance': importance\n",
        "}).sort_values(by='Importance', ascending=False)\n",
        "print(\"\\nTop 10 fitur paling penting:\")\n",
        "print(feature_importance_df.head(10))\n",
        "\n",
        "feature_importance_df.to_csv('visualizations/feature_importance.csv', index=False)\n",
        "joblib.dump(best_model, 'models/telco_churn_xgboost.pkl')\n",
        "print(\"Model disimpan sebagai: models/telco_churn_xgboost.pkl\")\n",
        "print(\"\\nPelatihan model selesai!\")\n",
        "print(\"Visualisasi disimpan di folder 'visualizations'\")\n"
      ],
      "metadata": {
        "id": "8BRi-_ZEqEk3"
      },
      "execution_count": null,
      "outputs": []
    }
  ]
}